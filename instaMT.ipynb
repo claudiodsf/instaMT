{
 "cells": [
  {
   "cell_type": "markdown",
   "metadata": {},
   "source": [
    "# instaMT\n",
    "A Jupyter notebook to play with moment tensor orientation and proportion of CLVD and ISO.\n",
    "\n",
    "(c) 2020 Claudio Satriano - satriano@ipgp.fr\n",
    "\n",
    "### How to run this notebook\n",
    "Select \"Cell->Run All\" from the Jupyter menu."
   ]
  },
  {
   "cell_type": "code",
   "execution_count": null,
   "metadata": {
    "scrolled": false
   },
   "outputs": [],
   "source": [
    "%matplotlib notebook\n",
    "import numpy as np\n",
    "from numpy import cos, sin, radians\n",
    "# from obspy.imaging.beachball import beach\n",
    "from obspy.imaging.mopad_wrapper import beach\n",
    "import matplotlib.pyplot as plt\n",
    "import ipywidgets as widgets\n",
    "from IPython.display import HTML\n",
    "HTML('''<script>\n",
    "code_show=true; \n",
    "function code_toggle() {\n",
    " if (code_show){\n",
    " $('div.input').hide();\n",
    " } else {\n",
    " $('div.input').show();\n",
    " }\n",
    " code_show = !code_show\n",
    "} \n",
    "$( document ).ready(code_toggle);\n",
    "</script>\n",
    "The Python code for this Jupyter notebook is by default hidden for easier reading.\n",
    "To toggle on/off the code, click <a href=\"javascript:code_toggle()\">here</a>.''')"
   ]
  },
  {
   "cell_type": "code",
   "execution_count": null,
   "metadata": {
    "scrolled": true
   },
   "outputs": [],
   "source": [
    "def fm_matrix(fm):\n",
    "    matrix = np.array([\n",
    "        [fm[0], fm[3], fm[4]],\n",
    "        [fm[3], fm[1], fm[5]],\n",
    "        [fm[4], fm[5], fm[2]],\n",
    "    ])\n",
    "    return matrix\n",
    "\n",
    "\n",
    "def fm_array(fmm):\n",
    "    fm = np.array([\n",
    "        fmm[0, 0], fmm[1, 1], fmm[2, 2],\n",
    "        fmm[0, 1], fmm[0, 2], fmm[1, 2]\n",
    "    ])\n",
    "    return fm\n",
    "\n",
    "\n",
    "def rotate_x(angle):\n",
    "    angle = radians(angle)\n",
    "    matrix = np.array([\n",
    "        [1, 0, 0],\n",
    "        [0, cos(angle), -sin(angle)],\n",
    "        [0, sin(angle), cos(angle)]\n",
    "    ])\n",
    "    return matrix\n",
    "\n",
    "\n",
    "def rotate_z(angle):\n",
    "    angle = radians(angle)\n",
    "    matrix = np.array([\n",
    "        [cos(angle), -sin(angle), 0],\n",
    "        [sin(angle), cos(angle), 0],\n",
    "        [0, 0, 1],\n",
    "    ])\n",
    "    return matrix"
   ]
  },
  {
   "cell_type": "code",
   "execution_count": null,
   "metadata": {
    "scrolled": false
   },
   "outputs": [],
   "source": [
    "def compose(clvd=0., iso=0.):\n",
    "    \"\"\"\n",
    "    Create a reverse fault moment tensor with percentages of CLVD and ISO.\n",
    "    \n",
    "    Uses the North,East,Down (NED) convention\n",
    "    \"\"\"\n",
    "    # \"Cat-eye\" reverse fault (strike=0, dip=45, rake=90)\n",
    "    fm_dc = np.array((0, -1, 1, 0, 0, 0))\n",
    "    # \"Bull-eye\" CLVD\n",
    "    fm_clvd = np.array((-0.5, -0.5, 1., 0, 0, 0)) * np.sign(clvd)\n",
    "    # ISO\n",
    "    fm_iso = np.array((1., 1., 1., 0, 0, 0)) * 1./3 * np.sign(iso)\n",
    "    # Let's compose the three components\n",
    "    clvd = np.abs(clvd / 100.)\n",
    "    iso = np.abs(iso / 100.)\n",
    "    fm = (1-iso) * ((1-clvd) * fm_dc + clvd * fm_clvd) + iso * fm_iso\n",
    "    # Now, rotate back to dip=0, rake=0 \n",
    "    #  TODO: do why we have to use rotate_z(90) ??\n",
    "    rot = np.dot(rotate_z(90), rotate_x(-45))\n",
    "    fmm = fm_matrix(fm)\n",
    "    fmm = np.dot(np.dot(rot, fmm), rot.T)\n",
    "    return fm_array(fmm)\n",
    "\n",
    "fm = compose()\n",
    "\n",
    "fig, ax = plt.subplots(figsize=(3, 3))\n",
    "ax.axison = False\n",
    "bball = beach(fm, mopad_basis='NED')\n",
    "ax.add_collection(bball)\n",
    "ax.autoscale_view(tight=False, scalex=True, scaley=True)\n",
    "\n",
    "# Moment tensor widget (NED convention)\n",
    "label = widgets.Label('Moment Tensor (NED convention):')\n",
    "wfm = [widgets.FloatText() for _ in range(9)]\n",
    "# Make sure that tensor stays symmetric\n",
    "widgets.jslink((wfm[1], 'value'), (wfm[3], 'value'))\n",
    "widgets.jslink((wfm[2], 'value'), (wfm[6], 'value'))\n",
    "widgets.jslink((wfm[5], 'value'), (wfm[7], 'value'))\n",
    "gbox = widgets.GridBox(\n",
    "    children=wfm,\n",
    "    layout=widgets.Layout(\n",
    "        grid_template_rows='auto auto auto',\n",
    "        grid_template_columns='100px 100px 100px',\n",
    "        width='300px'\n",
    "    ))\n",
    "mtvalues = widgets.VBox([label, gbox])\n",
    "\n",
    "# Moment tensor widget (RTP convention)\n",
    "label2 = widgets.Label('Moment Tensor (USE/RθΦ convention):')\n",
    "wfm2 = [widgets.FloatText() for _ in range(9)]\n",
    "# Make sure that tensor stays symmetric\n",
    "widgets.jslink((wfm2[1], 'value'), (wfm2[3], 'value'))\n",
    "widgets.jslink((wfm2[2], 'value'), (wfm2[6], 'value'))\n",
    "widgets.jslink((wfm2[5], 'value'), (wfm2[7], 'value'))\n",
    "gbox2 = widgets.GridBox(\n",
    "    children=wfm2,\n",
    "    layout=widgets.Layout(\n",
    "        grid_template_rows='auto auto auto',\n",
    "        grid_template_columns='100px 100px 100px',\n",
    "        width='300px'\n",
    "    ))\n",
    "mtvalues2 = widgets.VBox([label2, gbox2])\n",
    "\n",
    "\n",
    "def print_fmm(fmm):\n",
    "    # NED convention\n",
    "    wfm[0].value = np.around(fmm[0, 0], 3)  # Mxx\n",
    "    wfm[1].value = np.around(fmm[0, 1], 3)  # Mxy\n",
    "    wfm[2].value = np.around(fmm[0, 2], 3)  # Mxz\n",
    "    wfm[4].value = np.around(fmm[1, 1], 3)  # Myy\n",
    "    wfm[5].value = np.around(fmm[1, 2], 3)  # Myz\n",
    "    wfm[8].value = np.around(fmm[2, 2], 3)  # Mzz\n",
    "    # USE convention\n",
    "    wfm2[0].value = np.around(fmm[2, 2], 3)  # Mrr\n",
    "    wfm2[1].value = np.around(fmm[0, 2], 3)  # Mrt\n",
    "    wfm2[2].value = np.around(-fmm[1, 2], 3) # Mrp\n",
    "    wfm2[4].value = np.around(fmm[0, 0], 3)  # Mtt\n",
    "    wfm2[5].value = np.around(-fmm[0, 1], 3) # Mtp\n",
    "    wfm2[8].value = np.around(fmm[1, 1], 3)  # Mpp\n",
    "\n",
    "\n",
    "@widgets.interact(\n",
    "    strike=(0., 360., 1.), dip=(-90., 90., 1.), rake=(-180., 180., 1.),\n",
    "    clvd=(-100., 100., 1.), iso=(-100., 100., 1.))\n",
    "def rotate(strike=0., dip=0., rake=0., clvd=0., iso=0.):\n",
    "    fm = compose(clvd, iso)\n",
    "    rot = np.dot(rotate_z(strike), rotate_x(dip))\n",
    "    rot = np.dot(rot, rotate_z(-rake))\n",
    "    fmm = fm_matrix(fm)\n",
    "    fmm = np.dot(np.dot(rot, fmm), rot.T)\n",
    "    print_fmm(fmm)\n",
    "    for _c in ax.collections:\n",
    "        _c.remove()\n",
    "    try:\n",
    "        bball = beach(fm_array(fmm), mopad_basis='NED')\n",
    "        ax.add_collection(bball)\n",
    "        fig.canvas.draw_idle()\n",
    "    except:\n",
    "        pass\n",
    "\n",
    "    \n",
    "def from_mt(m11=0, m22=0, m33=0, m12=0, m13=-1, m23=0):\n",
    "    fm = (m11, m22, m33, m12, m13, m23)\n",
    "    for _c in ax.collections:\n",
    "        _c.remove()\n",
    "    try:\n",
    "        bball = beach(fm, mopad_basis='NED')\n",
    "        ax.add_collection(bball)\n",
    "        fig.canvas.draw_idle()\n",
    "    except:\n",
    "        pass\n",
    "    \n",
    "display(mtvalues)\n",
    "display(mtvalues2)"
   ]
  },
  {
   "cell_type": "code",
   "execution_count": null,
   "metadata": {},
   "outputs": [],
   "source": []
  }
 ],
 "metadata": {
  "kernelspec": {
   "display_name": "Python 3 (ipykernel)",
   "language": "python",
   "name": "python3"
  },
  "language_info": {
   "codemirror_mode": {
    "name": "ipython",
    "version": 3
   },
   "file_extension": ".py",
   "mimetype": "text/x-python",
   "name": "python",
   "nbconvert_exporter": "python",
   "pygments_lexer": "ipython3",
   "version": "3.7.10"
  },
  "widgets": {
   "application/vnd.jupyter.widget-state+json": {
    "state": {
     "004f6a71d99340819cd9a8ed3269d0ba": {
      "model_module": "@jupyter-widgets/controls",
      "model_module_version": "1.5.0",
      "model_name": "LinkModel",
      "state": {
       "source": [
        "IPY_MODEL_92569837dcd044f8a7e399b60f6b3071",
        "value"
       ],
       "target": [
        "IPY_MODEL_2e913784d83a4ec390852042c7e0925b",
        "value"
       ]
      }
     },
     "00fbc922cbcb4380b6852460c7f01606": {
      "model_module": "@jupyter-widgets/controls",
      "model_module_version": "1.5.0",
      "model_name": "FloatTextModel",
      "state": {
       "layout": "IPY_MODEL_a8e47e36591b46ceaa553c453a74173d",
       "step": null,
       "style": "IPY_MODEL_941f87aab2434aa3ab9d4e0fcaf9c610",
       "value": -1
      }
     },
     "01fac2fa51124221bfde0249d5ee5011": {
      "model_module": "@jupyter-widgets/controls",
      "model_module_version": "1.5.0",
      "model_name": "VBoxModel",
      "state": {
       "children": [
        "IPY_MODEL_2851116c556748a683129be2ba18dfe0",
        "IPY_MODEL_9745627b81d94a4a9ceaffd640464f54"
       ],
       "layout": "IPY_MODEL_36ad669f7990421e93a8feac2e772eda"
      }
     },
     "02478453668c47cf955913fc6f4620b4": {
      "model_module": "@jupyter-widgets/controls",
      "model_module_version": "1.5.0",
      "model_name": "DescriptionStyleModel",
      "state": {
       "description_width": ""
      }
     },
     "0268fac7697e4acbabee7880876c0f8f": {
      "model_module": "@jupyter-widgets/base",
      "model_module_version": "1.2.0",
      "model_name": "LayoutModel",
      "state": {
       "grid_template_columns": "100px 100px 100px",
       "grid_template_rows": "auto auto auto",
       "width": "300px"
      }
     },
     "0391da37ba5b4bb8b42c7865dc803d2a": {
      "model_module": "@jupyter-widgets/output",
      "model_module_version": "1.0.0",
      "model_name": "OutputModel",
      "state": {
       "layout": "IPY_MODEL_f1638fcadeba46bfb236e6d0c305216e"
      }
     },
     "06a485b9ce7445948739bb8a49115441": {
      "model_module": "@jupyter-widgets/controls",
      "model_module_version": "1.5.0",
      "model_name": "DescriptionStyleModel",
      "state": {
       "description_width": ""
      }
     },
     "072e167ba7864b50b2678a5fc75c9b14": {
      "model_module": "@jupyter-widgets/controls",
      "model_module_version": "1.5.0",
      "model_name": "FloatTextModel",
      "state": {
       "layout": "IPY_MODEL_35618912a4414182bd1fc6b6bfaf1a12",
       "step": null,
       "style": "IPY_MODEL_d62c5116c9d04f859270ae17f75a1368"
      }
     },
     "07768635851b43348ae58ff1aef56787": {
      "model_module": "@jupyter-widgets/controls",
      "model_module_version": "1.5.0",
      "model_name": "DescriptionStyleModel",
      "state": {
       "description_width": ""
      }
     },
     "07860c9d3e664bcdae3eeef0881e2dc9": {
      "model_module": "@jupyter-widgets/base",
      "model_module_version": "1.2.0",
      "model_name": "LayoutModel",
      "state": {}
     },
     "07ac514423f14fae950e1bd85f2e8136": {
      "model_module": "@jupyter-widgets/controls",
      "model_module_version": "1.5.0",
      "model_name": "GridBoxModel",
      "state": {
       "children": [
        "IPY_MODEL_a7547288bdb646139b90c556afb47953",
        "IPY_MODEL_96d9baca8e3f4e50aafd3ae3684c00b3",
        "IPY_MODEL_983fc8ad09c846868a90ac4efc45e68b",
        "IPY_MODEL_dec0152b11934b8b983e18429a0bdaaf",
        "IPY_MODEL_a72a9d368e0042f6b87555ab31b88240",
        "IPY_MODEL_d48e837876ba41f6a0f96458aaa52171",
        "IPY_MODEL_c683ac4f9905460fb36b0ded215bf7ce",
        "IPY_MODEL_601dfac87c104b7f93551022b6ac145e",
        "IPY_MODEL_7f3a12e8f1a8491ca216ae8646c6ba1d"
       ],
       "layout": "IPY_MODEL_0268fac7697e4acbabee7880876c0f8f"
      }
     },
     "07d55d890f8a4547a6e429ef8cab49ab": {
      "model_module": "@jupyter-widgets/controls",
      "model_module_version": "1.5.0",
      "model_name": "FloatTextModel",
      "state": {
       "layout": "IPY_MODEL_94fe1d5c52284838a9adf36917fdfcb3",
       "step": null,
       "style": "IPY_MODEL_89a8bfb0d96f48b0a2070e4d97e854cc",
       "value": -1
      }
     },
     "09440ec027a049bfb1e8f0a8acb781d6": {
      "model_module": "@jupyter-widgets/controls",
      "model_module_version": "1.5.0",
      "model_name": "DescriptionStyleModel",
      "state": {
       "description_width": ""
      }
     },
     "099b246fa2704b1693dbdb57eda1cb40": {
      "model_module": "@jupyter-widgets/base",
      "model_module_version": "1.2.0",
      "model_name": "LayoutModel",
      "state": {}
     },
     "0a7606f8f12e48c69b0c665933a0faf2": {
      "model_module": "@jupyter-widgets/controls",
      "model_module_version": "1.5.0",
      "model_name": "SliderStyleModel",
      "state": {
       "description_width": ""
      }
     },
     "0ab51118613e4f1ba40fe623c605717e": {
      "model_module": "@jupyter-widgets/controls",
      "model_module_version": "1.5.0",
      "model_name": "FloatSliderModel",
      "state": {
       "description": "dip",
       "layout": "IPY_MODEL_1346747ff2264019a2ca0731f714b4ef",
       "max": 90,
       "min": -90,
       "style": "IPY_MODEL_c22aa4c58d2f409495e44e30498fc898",
       "value": 42
      }
     },
     "0b43a148c9ad4a2799257dc3466ccbd6": {
      "model_module": "@jupyter-widgets/base",
      "model_module_version": "1.2.0",
      "model_name": "LayoutModel",
      "state": {}
     },
     "0b6e90cddcbe45cda5e2a01639254c8b": {
      "model_module": "@jupyter-widgets/controls",
      "model_module_version": "1.5.0",
      "model_name": "FloatTextModel",
      "state": {
       "layout": "IPY_MODEL_35b3375ac95a41cb98e2b51e06d8d2dd",
       "step": null,
       "style": "IPY_MODEL_4b12fa6ae7c84da3bfd80fb6339f6930"
      }
     },
     "0bbbb621ae19466dbf0f96668445bc99": {
      "model_module": "@jupyter-widgets/output",
      "model_module_version": "1.0.0",
      "model_name": "OutputModel",
      "state": {
       "layout": "IPY_MODEL_8abc4ff19b1e48a6aa869bdbae6bca6d"
      }
     },
     "0d1fbbf1776e467fb24b532a8d031fff": {
      "model_module": "@jupyter-widgets/controls",
      "model_module_version": "1.5.0",
      "model_name": "FloatSliderModel",
      "state": {
       "description": "iso",
       "layout": "IPY_MODEL_62d3e85eeea24cd58accb872538df489",
       "min": -100,
       "style": "IPY_MODEL_d4f1b1e377244af088e2960a94c81d13",
       "value": -24
      }
     },
     "0d58afba98b7435b87c1257d3651fd73": {
      "model_module": "@jupyter-widgets/controls",
      "model_module_version": "1.5.0",
      "model_name": "LinkModel",
      "state": {
       "source": [
        "IPY_MODEL_88284932f7d34c8eacd2ecaf0ed63403",
        "value"
       ],
       "target": [
        "IPY_MODEL_a8748164f91644ec925aaa36b1cadc9c",
        "value"
       ]
      }
     },
     "0d91a4ea47b84d46810e1a3f053e291f": {
      "model_module": "@jupyter-widgets/controls",
      "model_module_version": "1.5.0",
      "model_name": "DescriptionStyleModel",
      "state": {
       "description_width": ""
      }
     },
     "0f13c77f37c645528027dc959ed8884e": {
      "model_module": "@jupyter-widgets/base",
      "model_module_version": "1.2.0",
      "model_name": "LayoutModel",
      "state": {}
     },
     "0ff06b8eba4149fcb181654b233d49d8": {
      "model_module": "@jupyter-widgets/base",
      "model_module_version": "1.2.0",
      "model_name": "LayoutModel",
      "state": {}
     },
     "102122665b2f4deb910f861ce6621533": {
      "model_module": "@jupyter-widgets/base",
      "model_module_version": "1.2.0",
      "model_name": "LayoutModel",
      "state": {}
     },
     "1191d95eda774aeeb606afa2519c1ac0": {
      "model_module": "@jupyter-widgets/base",
      "model_module_version": "1.2.0",
      "model_name": "LayoutModel",
      "state": {}
     },
     "11dcd1a9bfe744f485cc3a355ac7ac72": {
      "model_module": "@jupyter-widgets/controls",
      "model_module_version": "1.5.0",
      "model_name": "VBoxModel",
      "state": {
       "_dom_classes": [
        "widget-interact"
       ],
       "children": [
        "IPY_MODEL_2ebeffba644c4db8bbb01c1a3a683e72",
        "IPY_MODEL_fbcc4b421c4745bcab258a8cf58b1dcf",
        "IPY_MODEL_cd9efdbd4775433aaf96ad2be307808b",
        "IPY_MODEL_f2cedda6bcc94421bee1c942e91395cd",
        "IPY_MODEL_a99ad67abfbe4cf28973cefa69b3a844",
        "IPY_MODEL_bec8487a06a0475b8bd3523d320091b9"
       ],
       "layout": "IPY_MODEL_92dca912b5bd487b96514479f6a0bac2"
      }
     },
     "12c5311de64d4705b9feecd7bd7a76d7": {
      "model_module": "@jupyter-widgets/controls",
      "model_module_version": "1.5.0",
      "model_name": "FloatTextModel",
      "state": {
       "layout": "IPY_MODEL_3e3d5acad5df47b6a90733fa2147fd1c",
       "step": null,
       "style": "IPY_MODEL_9933df61ea5b49898164ec0c3bda84b6"
      }
     },
     "1334e9329bfd4ee6968a43e98533f38e": {
      "model_module": "@jupyter-widgets/base",
      "model_module_version": "1.2.0",
      "model_name": "LayoutModel",
      "state": {}
     },
     "1346747ff2264019a2ca0731f714b4ef": {
      "model_module": "@jupyter-widgets/base",
      "model_module_version": "1.2.0",
      "model_name": "LayoutModel",
      "state": {}
     },
     "136fd253bcac4eb4b4116fa70edca012": {
      "model_module": "@jupyter-widgets/base",
      "model_module_version": "1.2.0",
      "model_name": "LayoutModel",
      "state": {
       "grid_template_columns": "100px 100px 100px",
       "grid_template_rows": "auto auto auto",
       "width": "300px"
      }
     },
     "13e75a29ff3c41a29f284571da1a7184": {
      "model_module": "@jupyter-widgets/controls",
      "model_module_version": "1.5.0",
      "model_name": "FloatTextModel",
      "state": {
       "layout": "IPY_MODEL_5f48b0730c75427aa5a42d81d64c88e5",
       "step": null,
       "style": "IPY_MODEL_d5c1039836d84dd0a05f94f56e733aa9"
      }
     },
     "14439edded6a4647a647af1940e4f564": {
      "model_module": "@jupyter-widgets/controls",
      "model_module_version": "1.5.0",
      "model_name": "DescriptionStyleModel",
      "state": {
       "description_width": ""
      }
     },
     "156d91a2f3da4b069ef1e097cc360bc2": {
      "model_module": "@jupyter-widgets/base",
      "model_module_version": "1.2.0",
      "model_name": "LayoutModel",
      "state": {}
     },
     "15b05c0792934aa4ba73081040be633f": {
      "model_module": "@jupyter-widgets/base",
      "model_module_version": "1.2.0",
      "model_name": "LayoutModel",
      "state": {}
     },
     "16ec5cda083e4eb482050f48fd27faab": {
      "model_module": "@jupyter-widgets/controls",
      "model_module_version": "1.5.0",
      "model_name": "LinkModel",
      "state": {
       "source": [
        "IPY_MODEL_1eccfc188a4f407cbcdc3d4fd4cc100c",
        "value"
       ],
       "target": [
        "IPY_MODEL_8a22a5bf625b41b3932567aadb524e44",
        "value"
       ]
      }
     },
     "17011e09a99f412386a074ee9f77b1d8": {
      "model_module": "@jupyter-widgets/base",
      "model_module_version": "1.2.0",
      "model_name": "LayoutModel",
      "state": {}
     },
     "17ce126218c34ec8a9cb9fd5fb8a03fb": {
      "model_module": "@jupyter-widgets/base",
      "model_module_version": "1.2.0",
      "model_name": "LayoutModel",
      "state": {
       "grid_template_columns": "100px 100px 100px",
       "grid_template_rows": "auto auto auto",
       "width": "300px"
      }
     },
     "1831501efb79475aa72c1fc6f3d0fee3": {
      "model_module": "@jupyter-widgets/controls",
      "model_module_version": "1.5.0",
      "model_name": "SliderStyleModel",
      "state": {
       "description_width": ""
      }
     },
     "19d75beb494f441080b30d594352c6fb": {
      "model_module": "@jupyter-widgets/base",
      "model_module_version": "1.2.0",
      "model_name": "LayoutModel",
      "state": {}
     },
     "1a1260c760a64b2fbd66e5f8ac0f829f": {
      "model_module": "@jupyter-widgets/controls",
      "model_module_version": "1.5.0",
      "model_name": "DescriptionStyleModel",
      "state": {
       "description_width": ""
      }
     },
     "1a3419f7db45435baf9f41e5e1b9777f": {
      "model_module": "@jupyter-widgets/controls",
      "model_module_version": "1.5.0",
      "model_name": "LinkModel",
      "state": {
       "source": [
        "IPY_MODEL_7117a5237e034da6b8ab487cce3dc254",
        "value"
       ],
       "target": [
        "IPY_MODEL_12c5311de64d4705b9feecd7bd7a76d7",
        "value"
       ]
      }
     },
     "1a450fc36b28429ebdac7c5e9cde0ae7": {
      "model_module": "@jupyter-widgets/controls",
      "model_module_version": "1.5.0",
      "model_name": "DescriptionStyleModel",
      "state": {
       "description_width": ""
      }
     },
     "1b03881e07d44489b99ceff25052f8d6": {
      "model_module": "@jupyter-widgets/controls",
      "model_module_version": "1.5.0",
      "model_name": "FloatTextModel",
      "state": {
       "layout": "IPY_MODEL_17011e09a99f412386a074ee9f77b1d8",
       "step": null,
       "style": "IPY_MODEL_7dfe07f3cc724cf7867d4447a23915d5",
       "value": -0.424
      }
     },
     "1ccca77d2a0146efaaf15f4f50b1fac6": {
      "model_module": "@jupyter-widgets/controls",
      "model_module_version": "1.5.0",
      "model_name": "SliderStyleModel",
      "state": {
       "description_width": ""
      }
     },
     "1dff6aa591764c6ebe3f8338d7299ab0": {
      "model_module": "@jupyter-widgets/base",
      "model_module_version": "1.2.0",
      "model_name": "LayoutModel",
      "state": {}
     },
     "1eb2b345381f4a08affbd949167c881c": {
      "model_module": "@jupyter-widgets/controls",
      "model_module_version": "1.5.0",
      "model_name": "DescriptionStyleModel",
      "state": {
       "description_width": ""
      }
     },
     "1eccfc188a4f407cbcdc3d4fd4cc100c": {
      "model_module": "@jupyter-widgets/controls",
      "model_module_version": "1.5.0",
      "model_name": "FloatTextModel",
      "state": {
       "layout": "IPY_MODEL_d3fe55287f5944e297ff7717b61d8990",
       "step": null,
       "style": "IPY_MODEL_1f17955920694e74a5ad064d224da43b",
       "value": -0.198
      }
     },
     "1f17955920694e74a5ad064d224da43b": {
      "model_module": "@jupyter-widgets/controls",
      "model_module_version": "1.5.0",
      "model_name": "DescriptionStyleModel",
      "state": {
       "description_width": ""
      }
     },
     "1fe29875ca2744cc8c79c944f37e2b1c": {
      "model_module": "@jupyter-widgets/controls",
      "model_module_version": "1.5.0",
      "model_name": "FloatTextModel",
      "state": {
       "layout": "IPY_MODEL_9d5d50a5f1bc4bf7a0ae965bf63d80f0",
       "step": null,
       "style": "IPY_MODEL_6208c07d6ceb4f14bb8840230b128e45",
       "value": 0.043
      }
     },
     "20a0172e13ed4f9e8bad01efc7069fd1": {
      "model_module": "@jupyter-widgets/base",
      "model_module_version": "1.2.0",
      "model_name": "LayoutModel",
      "state": {}
     },
     "222fb88792af459594ef1b74e3f3914c": {
      "model_module": "@jupyter-widgets/base",
      "model_module_version": "1.2.0",
      "model_name": "LayoutModel",
      "state": {}
     },
     "2290dd96596d47028dadb47fa9cb7641": {
      "model_module": "@jupyter-widgets/controls",
      "model_module_version": "1.5.0",
      "model_name": "SliderStyleModel",
      "state": {
       "description_width": ""
      }
     },
     "23fe759776de4823acf753ba026014f4": {
      "model_module": "@jupyter-widgets/controls",
      "model_module_version": "1.5.0",
      "model_name": "LinkModel",
      "state": {
       "source": [
        "IPY_MODEL_7ac580d4be1148e0a7d8469c2b19eb45",
        "value"
       ],
       "target": [
        "IPY_MODEL_5832112e0e5b49879a5fea4bc75a8b0c",
        "value"
       ]
      }
     },
     "24023c1cde6041c5acce04dd30613cfb": {
      "model_module": "@jupyter-widgets/base",
      "model_module_version": "1.2.0",
      "model_name": "LayoutModel",
      "state": {}
     },
     "2438d42212e64d52927a93a95693df02": {
      "model_module": "@jupyter-widgets/base",
      "model_module_version": "1.2.0",
      "model_name": "LayoutModel",
      "state": {}
     },
     "24c0f60dff474f1488b8f76453456cbc": {
      "model_module": "@jupyter-widgets/base",
      "model_module_version": "1.2.0",
      "model_name": "LayoutModel",
      "state": {}
     },
     "24d096ffa99047a08f5b093403f7be8c": {
      "model_module": "@jupyter-widgets/controls",
      "model_module_version": "1.5.0",
      "model_name": "DescriptionStyleModel",
      "state": {
       "description_width": ""
      }
     },
     "24f6ff319f7e43d59e82b5b8f8bcf45c": {
      "model_module": "@jupyter-widgets/controls",
      "model_module_version": "1.5.0",
      "model_name": "SliderStyleModel",
      "state": {
       "description_width": ""
      }
     },
     "25c5d441fa464862a62c5ba1e1757114": {
      "model_module": "@jupyter-widgets/controls",
      "model_module_version": "1.5.0",
      "model_name": "DescriptionStyleModel",
      "state": {
       "description_width": ""
      }
     },
     "25fe985ad5014cb1be9bdf09a376be69": {
      "model_module": "@jupyter-widgets/controls",
      "model_module_version": "1.5.0",
      "model_name": "FloatTextModel",
      "state": {
       "layout": "IPY_MODEL_36e82ac2e2c2498f88e18d2a9b6f8ef4",
       "step": null,
       "style": "IPY_MODEL_1eb2b345381f4a08affbd949167c881c",
       "value": 0.048
      }
     },
     "27f9fd2f1ebe4dab893a3543f06c75d2": {
      "model_module": "@jupyter-widgets/controls",
      "model_module_version": "1.5.0",
      "model_name": "DescriptionStyleModel",
      "state": {
       "description_width": ""
      }
     },
     "2851116c556748a683129be2ba18dfe0": {
      "model_module": "@jupyter-widgets/controls",
      "model_module_version": "1.5.0",
      "model_name": "LabelModel",
      "state": {
       "layout": "IPY_MODEL_2d4f40ea3b31412d8f3545cff3900d2c",
       "style": "IPY_MODEL_b48ad7d09ab7420bb1bdafdc42c1ea2b",
       "value": "Moment Tensor:"
      }
     },
     "2905383581de4da282e2e10b7c7236a8": {
      "model_module": "@jupyter-widgets/controls",
      "model_module_version": "1.5.0",
      "model_name": "DescriptionStyleModel",
      "state": {
       "description_width": ""
      }
     },
     "295dd2cfdd404bf399560ec727a0f295": {
      "model_module": "@jupyter-widgets/controls",
      "model_module_version": "1.5.0",
      "model_name": "FloatSliderModel",
      "state": {
       "description": "rake",
       "layout": "IPY_MODEL_b1be95e161e8448bb093992c3f825a2b",
       "max": 180,
       "min": -180,
       "style": "IPY_MODEL_8b8cd628ef704ab685994b33d20f675a",
       "value": -73
      }
     },
     "2aaffa87b7a145749091163209a6e91c": {
      "model_module": "@jupyter-widgets/base",
      "model_module_version": "1.2.0",
      "model_name": "LayoutModel",
      "state": {}
     },
     "2c45475ca7af4e2cae39dd43dd2dd393": {
      "model_module": "@jupyter-widgets/controls",
      "model_module_version": "1.5.0",
      "model_name": "SliderStyleModel",
      "state": {
       "description_width": ""
      }
     },
     "2d157fbcb7584f6c8d8a65f79564b5b3": {
      "model_module": "@jupyter-widgets/base",
      "model_module_version": "1.2.0",
      "model_name": "LayoutModel",
      "state": {}
     },
     "2d4f40ea3b31412d8f3545cff3900d2c": {
      "model_module": "@jupyter-widgets/base",
      "model_module_version": "1.2.0",
      "model_name": "LayoutModel",
      "state": {}
     },
     "2d7aec16997b48a39f05cd63365fa55f": {
      "model_module": "@jupyter-widgets/base",
      "model_module_version": "1.2.0",
      "model_name": "LayoutModel",
      "state": {}
     },
     "2df4e83480e0491f8faa6303bd806344": {
      "model_module": "@jupyter-widgets/controls",
      "model_module_version": "1.5.0",
      "model_name": "SliderStyleModel",
      "state": {
       "description_width": ""
      }
     },
     "2e913784d83a4ec390852042c7e0925b": {
      "model_module": "@jupyter-widgets/controls",
      "model_module_version": "1.5.0",
      "model_name": "FloatTextModel",
      "state": {
       "layout": "IPY_MODEL_91a056bc1971464abe1fbb61027cc30a",
       "step": null,
       "style": "IPY_MODEL_c0f8c52d9d4e4165808c79a63647adc9"
      }
     },
     "2ebeffba644c4db8bbb01c1a3a683e72": {
      "model_module": "@jupyter-widgets/controls",
      "model_module_version": "1.5.0",
      "model_name": "FloatSliderModel",
      "state": {
       "description": "strike",
       "layout": "IPY_MODEL_4f72c02836194109bdd3ff1c2d8af5fa",
       "max": 360,
       "style": "IPY_MODEL_422884dbc213456e8ba4057677288b04"
      }
     },
     "2effce18390c4d989c577ce7525de3fc": {
      "model_module": "@jupyter-widgets/controls",
      "model_module_version": "1.5.0",
      "model_name": "SliderStyleModel",
      "state": {
       "description_width": ""
      }
     },
     "2f13360b8c8e422c9d1cfe744d8d17db": {
      "model_module": "@jupyter-widgets/base",
      "model_module_version": "1.2.0",
      "model_name": "LayoutModel",
      "state": {}
     },
     "2f43109334ce4cfbbd14c56c57817ba6": {
      "model_module": "@jupyter-widgets/base",
      "model_module_version": "1.2.0",
      "model_name": "LayoutModel",
      "state": {}
     },
     "30063c21a6ff42f1af7b7811dd7983d8": {
      "model_module": "@jupyter-widgets/base",
      "model_module_version": "1.2.0",
      "model_name": "LayoutModel",
      "state": {}
     },
     "31480594311843d98de79d1b7912691f": {
      "model_module": "@jupyter-widgets/base",
      "model_module_version": "1.2.0",
      "model_name": "LayoutModel",
      "state": {
       "grid_template_columns": "100px 100px 100px",
       "grid_template_rows": "auto auto auto",
       "width": "300px"
      }
     },
     "320d899c37c5404c97d629f150d808ae": {
      "model_module": "@jupyter-widgets/base",
      "model_module_version": "1.2.0",
      "model_name": "LayoutModel",
      "state": {}
     },
     "322267bb30444f05b5254161bb7bb7e2": {
      "model_module": "@jupyter-widgets/base",
      "model_module_version": "1.2.0",
      "model_name": "LayoutModel",
      "state": {}
     },
     "32a722079aa34faea15016c5b1fd054e": {
      "model_module": "@jupyter-widgets/controls",
      "model_module_version": "1.5.0",
      "model_name": "FloatTextModel",
      "state": {
       "layout": "IPY_MODEL_9538e170932040de8eba812278e840be",
       "step": null,
       "style": "IPY_MODEL_64668cf22c4f4a3289dbefd021ed0a3b",
       "value": -0.625
      }
     },
     "35153c02fc8a41bb88a189555286600e": {
      "model_module": "@jupyter-widgets/base",
      "model_module_version": "1.2.0",
      "model_name": "LayoutModel",
      "state": {}
     },
     "354d7574905e4d0dbbe0283b6c9c5562": {
      "model_module": "@jupyter-widgets/controls",
      "model_module_version": "1.5.0",
      "model_name": "DescriptionStyleModel",
      "state": {
       "description_width": ""
      }
     },
     "35618912a4414182bd1fc6b6bfaf1a12": {
      "model_module": "@jupyter-widgets/base",
      "model_module_version": "1.2.0",
      "model_name": "LayoutModel",
      "state": {}
     },
     "35b3375ac95a41cb98e2b51e06d8d2dd": {
      "model_module": "@jupyter-widgets/base",
      "model_module_version": "1.2.0",
      "model_name": "LayoutModel",
      "state": {}
     },
     "365eb4d288f7491292eadd4a8e252427": {
      "model_module": "@jupyter-widgets/controls",
      "model_module_version": "1.5.0",
      "model_name": "DescriptionStyleModel",
      "state": {
       "description_width": ""
      }
     },
     "366dc06749bd40ffa9a9968fbf452d94": {
      "model_module": "@jupyter-widgets/controls",
      "model_module_version": "1.5.0",
      "model_name": "FloatTextModel",
      "state": {
       "layout": "IPY_MODEL_4b9bdc158bff4bb0bc1f7de6cf8c435c",
       "step": null,
       "style": "IPY_MODEL_02478453668c47cf955913fc6f4620b4",
       "value": -0.665
      }
     },
     "36ad669f7990421e93a8feac2e772eda": {
      "model_module": "@jupyter-widgets/base",
      "model_module_version": "1.2.0",
      "model_name": "LayoutModel",
      "state": {}
     },
     "36e82ac2e2c2498f88e18d2a9b6f8ef4": {
      "model_module": "@jupyter-widgets/base",
      "model_module_version": "1.2.0",
      "model_name": "LayoutModel",
      "state": {}
     },
     "37394d4f35ce4c2191be3754fcb5cd41": {
      "model_module": "@jupyter-widgets/base",
      "model_module_version": "1.2.0",
      "model_name": "LayoutModel",
      "state": {}
     },
     "376eeff6e63540909f02e7b966c9208e": {
      "model_module": "@jupyter-widgets/base",
      "model_module_version": "1.2.0",
      "model_name": "LayoutModel",
      "state": {}
     },
     "377fd9a411784573b1c64454b89e11c4": {
      "model_module": "@jupyter-widgets/controls",
      "model_module_version": "1.5.0",
      "model_name": "SliderStyleModel",
      "state": {
       "description_width": ""
      }
     },
     "3877cca9c59c400c9674a5a0fa1c2e4f": {
      "model_module": "@jupyter-widgets/controls",
      "model_module_version": "1.5.0",
      "model_name": "FloatTextModel",
      "state": {
       "layout": "IPY_MODEL_0b43a148c9ad4a2799257dc3466ccbd6",
       "step": null,
       "style": "IPY_MODEL_b1deeabf837a4331ab4d1e712459978f",
       "value": 0.592
      }
     },
     "38d4ed3d2de042fc938cb856f10aad8d": {
      "model_module": "@jupyter-widgets/controls",
      "model_module_version": "1.5.0",
      "model_name": "VBoxModel",
      "state": {
       "_dom_classes": [
        "widget-interact"
       ],
       "children": [
        "IPY_MODEL_6c9e0978a7074fa4b2b19ecbca535959",
        "IPY_MODEL_c695078f7c9e4409bb3659d3894db81b",
        "IPY_MODEL_7ce04ea342d34f97a36bb3f896e4953b",
        "IPY_MODEL_9bfa66133a96436f82220dee75cd0d51",
        "IPY_MODEL_4d2af2fa1a9a4802a844b7d784540c7a",
        "IPY_MODEL_0bbbb621ae19466dbf0f96668445bc99"
       ],
       "layout": "IPY_MODEL_e3a9a49edc3746d5bfcd8ec7c0dad1cd"
      }
     },
     "3a3174ddd40e4d04ab609762c8b5f5f6": {
      "model_module": "@jupyter-widgets/controls",
      "model_module_version": "1.5.0",
      "model_name": "SliderStyleModel",
      "state": {
       "description_width": ""
      }
     },
     "3a71142f03124355a3156f2d0ce16b9a": {
      "model_module": "@jupyter-widgets/base",
      "model_module_version": "1.2.0",
      "model_name": "LayoutModel",
      "state": {}
     },
     "3b7c58e1ded04440a4a6db3d923a2952": {
      "model_module": "@jupyter-widgets/controls",
      "model_module_version": "1.5.0",
      "model_name": "FloatTextModel",
      "state": {
       "layout": "IPY_MODEL_74586ce3c04f4abe97c1c5f496056581",
       "step": null,
       "style": "IPY_MODEL_5be5f86195c54231ba4e98b7dc06358d",
       "value": -0.131
      }
     },
     "3c8bfcae128645fd849bb49e2b597e20": {
      "model_module": "@jupyter-widgets/controls",
      "model_module_version": "1.5.0",
      "model_name": "FloatTextModel",
      "state": {
       "layout": "IPY_MODEL_c8d49faf358742b6b66162ce2ccb831c",
       "step": null,
       "style": "IPY_MODEL_bb4eeca5ebf548119e8a6cc6888bed25",
       "value": 0.212
      }
     },
     "3d22f3b8fafd4d2f82c2da6156f99da6": {
      "model_module": "@jupyter-widgets/controls",
      "model_module_version": "1.5.0",
      "model_name": "DescriptionStyleModel",
      "state": {
       "description_width": ""
      }
     },
     "3dacbe561f7f44b58dd466dd771181a5": {
      "model_module": "@jupyter-widgets/base",
      "model_module_version": "1.2.0",
      "model_name": "LayoutModel",
      "state": {}
     },
     "3e3d5acad5df47b6a90733fa2147fd1c": {
      "model_module": "@jupyter-widgets/base",
      "model_module_version": "1.2.0",
      "model_name": "LayoutModel",
      "state": {}
     },
     "40fce280f9894cce8ac50d64d9d31a76": {
      "model_module": "@jupyter-widgets/controls",
      "model_module_version": "1.5.0",
      "model_name": "FloatTextModel",
      "state": {
       "layout": "IPY_MODEL_af39967b9d1d4100a25c9a9ae64ad958",
       "step": null,
       "style": "IPY_MODEL_506a837950be44398d46c3c9b83231d7",
       "value": -0.497
      }
     },
     "411ab51ce2fe4edbab08e036ef54e47b": {
      "model_module": "@jupyter-widgets/base",
      "model_module_version": "1.2.0",
      "model_name": "LayoutModel",
      "state": {}
     },
     "41faa8a98fc749a1bb0e1c2f67e593d5": {
      "model_module": "@jupyter-widgets/controls",
      "model_module_version": "1.5.0",
      "model_name": "SliderStyleModel",
      "state": {
       "description_width": ""
      }
     },
     "422884dbc213456e8ba4057677288b04": {
      "model_module": "@jupyter-widgets/controls",
      "model_module_version": "1.5.0",
      "model_name": "SliderStyleModel",
      "state": {
       "description_width": ""
      }
     },
     "442a66f7b323406b88f5c4d05ccf7ae3": {
      "model_module": "@jupyter-widgets/controls",
      "model_module_version": "1.5.0",
      "model_name": "FloatSliderModel",
      "state": {
       "description": "clvd",
       "layout": "IPY_MODEL_d9a8ec4dc13445ceb29bd0b0a423ed0c",
       "min": -100,
       "style": "IPY_MODEL_9ec437618b9a4219912f66f91c33c172"
      }
     },
     "45640d7580d4430c9786e4266aee80a0": {
      "model_module": "@jupyter-widgets/base",
      "model_module_version": "1.2.0",
      "model_name": "LayoutModel",
      "state": {}
     },
     "458061434da947ae9a1fbccc44d71c55": {
      "model_module": "@jupyter-widgets/controls",
      "model_module_version": "1.5.0",
      "model_name": "FloatSliderModel",
      "state": {
       "description": "dip",
       "layout": "IPY_MODEL_937c9d7fe4f942378b90d0ab5172bec9",
       "max": 90,
       "min": -90,
       "style": "IPY_MODEL_377fd9a411784573b1c64454b89e11c4",
       "value": 35
      }
     },
     "45ca41a09d0d4181be0dffa5380e79c2": {
      "model_module": "@jupyter-widgets/controls",
      "model_module_version": "1.5.0",
      "model_name": "LinkModel",
      "state": {
       "source": [
        "IPY_MODEL_77df73e33eae4b108954ffc9217dc658",
        "value"
       ],
       "target": [
        "IPY_MODEL_3b7c58e1ded04440a4a6db3d923a2952",
        "value"
       ]
      }
     },
     "45dbbfef8b044af08beffbb1b0ef8dc3": {
      "model_module": "@jupyter-widgets/controls",
      "model_module_version": "1.5.0",
      "model_name": "DescriptionStyleModel",
      "state": {
       "description_width": ""
      }
     },
     "45f512bda0cf4a389f5d2b8e6362f935": {
      "model_module": "@jupyter-widgets/base",
      "model_module_version": "1.2.0",
      "model_name": "LayoutModel",
      "state": {}
     },
     "4806eb2ca26c4408b2a4d19aa55bfd26": {
      "model_module": "@jupyter-widgets/controls",
      "model_module_version": "1.5.0",
      "model_name": "SliderStyleModel",
      "state": {
       "description_width": ""
      }
     },
     "496a22a9f1cc41fb95f5af87b31d13d6": {
      "model_module": "@jupyter-widgets/base",
      "model_module_version": "1.2.0",
      "model_name": "LayoutModel",
      "state": {}
     },
     "4a0e7ca92f7a4edb9fa29be29eca0cd6": {
      "model_module": "@jupyter-widgets/controls",
      "model_module_version": "1.5.0",
      "model_name": "FloatTextModel",
      "state": {
       "layout": "IPY_MODEL_b12f857289314ce283ae116a40a899a0",
       "step": null,
       "style": "IPY_MODEL_365eb4d288f7491292eadd4a8e252427",
       "value": -1
      }
     },
     "4a165c4ed76f431b853cb62b4acd1b63": {
      "model_module": "@jupyter-widgets/base",
      "model_module_version": "1.2.0",
      "model_name": "LayoutModel",
      "state": {}
     },
     "4b12fa6ae7c84da3bfd80fb6339f6930": {
      "model_module": "@jupyter-widgets/controls",
      "model_module_version": "1.5.0",
      "model_name": "DescriptionStyleModel",
      "state": {
       "description_width": ""
      }
     },
     "4b9bdc158bff4bb0bc1f7de6cf8c435c": {
      "model_module": "@jupyter-widgets/base",
      "model_module_version": "1.2.0",
      "model_name": "LayoutModel",
      "state": {}
     },
     "4baf8d55a09447d288db5e5d426795d2": {
      "model_module": "@jupyter-widgets/base",
      "model_module_version": "1.2.0",
      "model_name": "LayoutModel",
      "state": {}
     },
     "4be2c96d71d646d4a8812519216d4bd8": {
      "model_module": "@jupyter-widgets/controls",
      "model_module_version": "1.5.0",
      "model_name": "FloatSliderModel",
      "state": {
       "description": "rake",
       "layout": "IPY_MODEL_636d02c5c1e7445bb35d2cf86f1e4c7e",
       "max": 180,
       "min": -180,
       "style": "IPY_MODEL_72ee3a8bc4134ddfa712cf28772dffd4",
       "value": -52
      }
     },
     "4cee51347b5344fe999b111604c777e9": {
      "model_module": "@jupyter-widgets/controls",
      "model_module_version": "1.5.0",
      "model_name": "LinkModel",
      "state": {
       "source": [
        "IPY_MODEL_d48e837876ba41f6a0f96458aaa52171",
        "value"
       ],
       "target": [
        "IPY_MODEL_601dfac87c104b7f93551022b6ac145e",
        "value"
       ]
      }
     },
     "4d2af2fa1a9a4802a844b7d784540c7a": {
      "model_module": "@jupyter-widgets/controls",
      "model_module_version": "1.5.0",
      "model_name": "FloatSliderModel",
      "state": {
       "description": "iso",
       "layout": "IPY_MODEL_a701337fe65f422b9815c71b6cf56739",
       "min": -100,
       "style": "IPY_MODEL_6f0c5abcc2144d10afd3d66db3e08552"
      }
     },
     "4d455f41dd9c4fe49a950b11fc1ac3f1": {
      "model_module": "@jupyter-widgets/controls",
      "model_module_version": "1.5.0",
      "model_name": "FloatSliderModel",
      "state": {
       "description": "clvd",
       "layout": "IPY_MODEL_794d32031f2446f3b904977e89e79a6b",
       "min": -100,
       "style": "IPY_MODEL_e9c2415a61274e7193e30a8362c5dd07",
       "value": -12
      }
     },
     "4f72c02836194109bdd3ff1c2d8af5fa": {
      "model_module": "@jupyter-widgets/base",
      "model_module_version": "1.2.0",
      "model_name": "LayoutModel",
      "state": {}
     },
     "506a837950be44398d46c3c9b83231d7": {
      "model_module": "@jupyter-widgets/controls",
      "model_module_version": "1.5.0",
      "model_name": "DescriptionStyleModel",
      "state": {
       "description_width": ""
      }
     },
     "5071d30299124c1590754c869135c1c7": {
      "model_module": "@jupyter-widgets/controls",
      "model_module_version": "1.5.0",
      "model_name": "FloatTextModel",
      "state": {
       "layout": "IPY_MODEL_099b246fa2704b1693dbdb57eda1cb40",
       "step": null,
       "style": "IPY_MODEL_24d096ffa99047a08f5b093403f7be8c"
      }
     },
     "50ae89253a134540a265592a4ca0cfe0": {
      "model_module": "@jupyter-widgets/controls",
      "model_module_version": "1.5.0",
      "model_name": "DescriptionStyleModel",
      "state": {
       "description_width": ""
      }
     },
     "521b8d9aaf784d889475e26541bc58c4": {
      "model_module": "@jupyter-widgets/base",
      "model_module_version": "1.2.0",
      "model_name": "LayoutModel",
      "state": {}
     },
     "52d18be61068415f99e90cd8dc0ab8d6": {
      "model_module": "@jupyter-widgets/controls",
      "model_module_version": "1.5.0",
      "model_name": "FloatTextModel",
      "state": {
       "layout": "IPY_MODEL_9e9502f2de4f4035b7768f7055e1a21f",
       "step": null,
       "style": "IPY_MODEL_1a1260c760a64b2fbd66e5f8ac0f829f"
      }
     },
     "53d375f8628d46ffb11d96e9dd4599a7": {
      "model_module": "@jupyter-widgets/base",
      "model_module_version": "1.2.0",
      "model_name": "LayoutModel",
      "state": {}
     },
     "5424fe84d8d843d881b16c79ac736863": {
      "model_module": "@jupyter-widgets/controls",
      "model_module_version": "1.5.0",
      "model_name": "SliderStyleModel",
      "state": {
       "description_width": ""
      }
     },
     "558accf26b104b1a91c05c53239dd1db": {
      "model_module": "@jupyter-widgets/base",
      "model_module_version": "1.2.0",
      "model_name": "LayoutModel",
      "state": {}
     },
     "55d7f803622643dcac330f94e8bb9e16": {
      "model_module": "@jupyter-widgets/base",
      "model_module_version": "1.2.0",
      "model_name": "LayoutModel",
      "state": {}
     },
     "5619b7aba74c48e2938556d21e3bdec3": {
      "model_module": "@jupyter-widgets/base",
      "model_module_version": "1.2.0",
      "model_name": "LayoutModel",
      "state": {
       "grid_template_columns": "100px 100px 100px",
       "grid_template_rows": "auto auto auto",
       "width": "300px"
      }
     },
     "5819a55e627a47f99dd9cb176009da21": {
      "model_module": "@jupyter-widgets/base",
      "model_module_version": "1.2.0",
      "model_name": "LayoutModel",
      "state": {}
     },
     "5832112e0e5b49879a5fea4bc75a8b0c": {
      "model_module": "@jupyter-widgets/controls",
      "model_module_version": "1.5.0",
      "model_name": "FloatTextModel",
      "state": {
       "layout": "IPY_MODEL_d7a9a8dddfd04f328073b457e5b87b6c",
       "step": null,
       "style": "IPY_MODEL_7400c8fb927a47c787d040b152dcd160"
      }
     },
     "583c6991a3c1411c80340cdc4ace32b6": {
      "model_module": "@jupyter-widgets/base",
      "model_module_version": "1.2.0",
      "model_name": "LayoutModel",
      "state": {}
     },
     "5a11bae44e23449cbb22bb2635d661a2": {
      "model_module": "@jupyter-widgets/controls",
      "model_module_version": "1.5.0",
      "model_name": "VBoxModel",
      "state": {
       "_dom_classes": [
        "widget-interact"
       ],
       "children": [
        "IPY_MODEL_9fc0a5e73a5d43df941deb81ae245108",
        "IPY_MODEL_0ab51118613e4f1ba40fe623c605717e",
        "IPY_MODEL_6bfeb933d96c463a9b33e41d15f7bc5e",
        "IPY_MODEL_c8bc8851757648269b866a5d4910d474",
        "IPY_MODEL_caf66d92bdb94022814fd180e72b1ca3",
        "IPY_MODEL_c9b9554c977e4b279b587abfb4f3a08b"
       ],
       "layout": "IPY_MODEL_496a22a9f1cc41fb95f5af87b31d13d6"
      }
     },
     "5a63ba0db7014902b0f990f4e69fc29a": {
      "model_module": "@jupyter-widgets/controls",
      "model_module_version": "1.5.0",
      "model_name": "SliderStyleModel",
      "state": {
       "description_width": ""
      }
     },
     "5a7f6a52ffef42d78246762756800322": {
      "model_module": "@jupyter-widgets/controls",
      "model_module_version": "1.5.0",
      "model_name": "LinkModel",
      "state": {
       "source": [
        "IPY_MODEL_69bfab0a35a54a92a8b98101a3da8678",
        "value"
       ],
       "target": [
        "IPY_MODEL_acb21880070b4adeb7e7449c5fe85b53",
        "value"
       ]
      }
     },
     "5be5f86195c54231ba4e98b7dc06358d": {
      "model_module": "@jupyter-widgets/controls",
      "model_module_version": "1.5.0",
      "model_name": "DescriptionStyleModel",
      "state": {
       "description_width": ""
      }
     },
     "5c1e383267ee49d1adf138927c39814a": {
      "model_module": "@jupyter-widgets/controls",
      "model_module_version": "1.5.0",
      "model_name": "FloatSliderModel",
      "state": {
       "description": "iso",
       "layout": "IPY_MODEL_93e5a0ba2e3346e1878ab7179de26cef",
       "min": -100,
       "style": "IPY_MODEL_88b953c6208e4909b49c74bedbbfad6b"
      }
     },
     "5c859b766b2344bb9681651413d58c11": {
      "model_module": "@jupyter-widgets/controls",
      "model_module_version": "1.5.0",
      "model_name": "LabelModel",
      "state": {
       "layout": "IPY_MODEL_411ab51ce2fe4edbab08e036ef54e47b",
       "style": "IPY_MODEL_8a84fc45801743239975a1fd48f38daa",
       "value": "Moment Tensor"
      }
     },
     "5c9250f92116407ebadd19275cae5407": {
      "model_module": "@jupyter-widgets/base",
      "model_module_version": "1.2.0",
      "model_name": "LayoutModel",
      "state": {
       "grid_template_columns": "100px 100px 100px",
       "grid_template_rows": "auto auto auto",
       "width": "300px"
      }
     },
     "5cc4fa6a3bf54373849d41dcb24f4b80": {
      "model_module": "@jupyter-widgets/controls",
      "model_module_version": "1.5.0",
      "model_name": "FloatSliderModel",
      "state": {
       "description": "clvd",
       "layout": "IPY_MODEL_b9ee3419ea4b46f7bacb4c9851e17f8c",
       "min": -100,
       "style": "IPY_MODEL_41faa8a98fc749a1bb0e1c2f67e593d5"
      }
     },
     "5e11c7134b974bf4a9e7886dbcb6d6de": {
      "model_module": "@jupyter-widgets/base",
      "model_module_version": "1.2.0",
      "model_name": "LayoutModel",
      "state": {}
     },
     "5f48b0730c75427aa5a42d81d64c88e5": {
      "model_module": "@jupyter-widgets/base",
      "model_module_version": "1.2.0",
      "model_name": "LayoutModel",
      "state": {}
     },
     "5fc739bfb2304fc88648826a92bcb73b": {
      "model_module": "@jupyter-widgets/controls",
      "model_module_version": "1.5.0",
      "model_name": "FloatSliderModel",
      "state": {
       "description": "dip",
       "layout": "IPY_MODEL_836819e93cef4ba5a7fb8fc3404abf6c",
       "max": 90,
       "min": -90,
       "style": "IPY_MODEL_828db51bd0cb49f0a860a25d3c846015"
      }
     },
     "5fc7b3a020ae476fa834714e9f90145b": {
      "model_module": "@jupyter-widgets/controls",
      "model_module_version": "1.5.0",
      "model_name": "SliderStyleModel",
      "state": {
       "description_width": ""
      }
     },
     "601dfac87c104b7f93551022b6ac145e": {
      "model_module": "@jupyter-widgets/controls",
      "model_module_version": "1.5.0",
      "model_name": "FloatTextModel",
      "state": {
       "layout": "IPY_MODEL_3dacbe561f7f44b58dd466dd771181a5",
       "step": null,
       "style": "IPY_MODEL_d7ab5bd3e7a04f06b7d560831be4702e",
       "value": -0.225
      }
     },
     "614ac42795774a9db384d350713dea5f": {
      "model_module": "@jupyter-widgets/controls",
      "model_module_version": "1.5.0",
      "model_name": "GridBoxModel",
      "state": {
       "children": [
        "IPY_MODEL_3877cca9c59c400c9674a5a0fa1c2e4f",
        "IPY_MODEL_b93d1260b9c44f3ab118eef2bd829e2d",
        "IPY_MODEL_b917bef1fd544d1c8c456a83a41119cd",
        "IPY_MODEL_edb4416fec6e44f988d36f8c2419b8cf",
        "IPY_MODEL_b0104609b90c4372811c624eb2218ecd",
        "IPY_MODEL_77df73e33eae4b108954ffc9217dc658",
        "IPY_MODEL_c153cf7410824c86bd8e4a8ec056569f",
        "IPY_MODEL_3b7c58e1ded04440a4a6db3d923a2952",
        "IPY_MODEL_32a722079aa34faea15016c5b1fd054e"
       ],
       "layout": "IPY_MODEL_5c9250f92116407ebadd19275cae5407"
      }
     },
     "6182d1ca4ca349fe8f3f965267dffbf0": {
      "model_module": "@jupyter-widgets/base",
      "model_module_version": "1.2.0",
      "model_name": "LayoutModel",
      "state": {}
     },
     "6208c07d6ceb4f14bb8840230b128e45": {
      "model_module": "@jupyter-widgets/controls",
      "model_module_version": "1.5.0",
      "model_name": "DescriptionStyleModel",
      "state": {
       "description_width": ""
      }
     },
     "62d3e85eeea24cd58accb872538df489": {
      "model_module": "@jupyter-widgets/base",
      "model_module_version": "1.2.0",
      "model_name": "LayoutModel",
      "state": {}
     },
     "636d02c5c1e7445bb35d2cf86f1e4c7e": {
      "model_module": "@jupyter-widgets/base",
      "model_module_version": "1.2.0",
      "model_name": "LayoutModel",
      "state": {}
     },
     "642f159f207b462c86486d65c44a19ce": {
      "model_module": "@jupyter-widgets/base",
      "model_module_version": "1.2.0",
      "model_name": "LayoutModel",
      "state": {}
     },
     "64668cf22c4f4a3289dbefd021ed0a3b": {
      "model_module": "@jupyter-widgets/controls",
      "model_module_version": "1.5.0",
      "model_name": "DescriptionStyleModel",
      "state": {
       "description_width": ""
      }
     },
     "64d2ce57b7d549be8f05a5f1422e0220": {
      "model_module": "@jupyter-widgets/controls",
      "model_module_version": "1.5.0",
      "model_name": "FloatSliderModel",
      "state": {
       "description": "iso",
       "layout": "IPY_MODEL_fe40870c58984d9a9606de20270c8167",
       "min": -100,
       "style": "IPY_MODEL_2290dd96596d47028dadb47fa9cb7641",
       "value": 35
      }
     },
     "64ebb9c77131420f97c3c694d354a7b0": {
      "model_module": "@jupyter-widgets/controls",
      "model_module_version": "1.5.0",
      "model_name": "FloatSliderModel",
      "state": {
       "description": "strike",
       "layout": "IPY_MODEL_2f43109334ce4cfbbd14c56c57817ba6",
       "max": 360,
       "style": "IPY_MODEL_7a5dba07be974ec09cd164181548182e",
       "value": 89
      }
     },
     "6584a11e56c34732966fb8cf416c96cb": {
      "model_module": "@jupyter-widgets/controls",
      "model_module_version": "1.5.0",
      "model_name": "LabelModel",
      "state": {
       "layout": "IPY_MODEL_2aaffa87b7a145749091163209a6e91c",
       "style": "IPY_MODEL_c6000ecb736649de9fd14f9575af2c7f",
       "value": "Moment Tensor"
      }
     },
     "65bfc4e1dbc342449fb42ed114df4b92": {
      "model_module": "@jupyter-widgets/base",
      "model_module_version": "1.2.0",
      "model_name": "LayoutModel",
      "state": {}
     },
     "689e947f120e4c8aad53dbcc1c0bc3ed": {
      "model_module": "@jupyter-widgets/controls",
      "model_module_version": "1.5.0",
      "model_name": "VBoxModel",
      "state": {
       "children": [
        "IPY_MODEL_934b72ef3c844a1ebf6f48e95bb5b911",
        "IPY_MODEL_9cd38986eebe437dbae828af7b2d0bb7"
       ],
       "layout": "IPY_MODEL_e6cc2b5430d148dc926a3e2b50884c04"
      }
     },
     "6939e6e3e4cb4ea68bf72bd27cce361a": {
      "model_module": "@jupyter-widgets/base",
      "model_module_version": "1.2.0",
      "model_name": "LayoutModel",
      "state": {}
     },
     "6967224faa7e42749c23fab5a4cc0d53": {
      "model_module": "@jupyter-widgets/controls",
      "model_module_version": "1.5.0",
      "model_name": "DescriptionStyleModel",
      "state": {
       "description_width": ""
      }
     },
     "69bfab0a35a54a92a8b98101a3da8678": {
      "model_module": "@jupyter-widgets/controls",
      "model_module_version": "1.5.0",
      "model_name": "FloatTextModel",
      "state": {
       "layout": "IPY_MODEL_900e99cb55c84edab87b48cc565ebbbd",
       "step": null,
       "style": "IPY_MODEL_97773d1b1f354b0c947e0f6ca532cc9e",
       "value": 0.274
      }
     },
     "6b5b3e5402074831bf835cdb89a7a0b3": {
      "model_module": "@jupyter-widgets/controls",
      "model_module_version": "1.5.0",
      "model_name": "SliderStyleModel",
      "state": {
       "description_width": ""
      }
     },
     "6b7350168708418382120c6f46792f70": {
      "model_module": "@jupyter-widgets/controls",
      "model_module_version": "1.5.0",
      "model_name": "DescriptionStyleModel",
      "state": {
       "description_width": ""
      }
     },
     "6bfeb933d96c463a9b33e41d15f7bc5e": {
      "model_module": "@jupyter-widgets/controls",
      "model_module_version": "1.5.0",
      "model_name": "FloatSliderModel",
      "state": {
       "description": "rake",
       "layout": "IPY_MODEL_e8d6348395094dc1a093118720c5ae8f",
       "max": 180,
       "min": -180,
       "style": "IPY_MODEL_ca8a9107605c460b8191a105325ecd14",
       "value": -41
      }
     },
     "6c12c92dc19648bf8651fb3961b11f9c": {
      "model_module": "@jupyter-widgets/controls",
      "model_module_version": "1.5.0",
      "model_name": "DescriptionStyleModel",
      "state": {
       "description_width": ""
      }
     },
     "6c198eb621b74098a2ff6d7ce392e1bf": {
      "model_module": "@jupyter-widgets/base",
      "model_module_version": "1.2.0",
      "model_name": "LayoutModel",
      "state": {}
     },
     "6c9e0978a7074fa4b2b19ecbca535959": {
      "model_module": "@jupyter-widgets/controls",
      "model_module_version": "1.5.0",
      "model_name": "FloatSliderModel",
      "state": {
       "description": "strike",
       "layout": "IPY_MODEL_d9fd6d565467425aa99410ecd1b41f69",
       "max": 360,
       "style": "IPY_MODEL_24f6ff319f7e43d59e82b5b8f8bcf45c"
      }
     },
     "6eb164e59b9c4a32889505c541f350e2": {
      "model_module": "@jupyter-widgets/controls",
      "model_module_version": "1.5.0",
      "model_name": "SliderStyleModel",
      "state": {
       "description_width": ""
      }
     },
     "6f0c5abcc2144d10afd3d66db3e08552": {
      "model_module": "@jupyter-widgets/controls",
      "model_module_version": "1.5.0",
      "model_name": "SliderStyleModel",
      "state": {
       "description_width": ""
      }
     },
     "6f482bc3d3d445419b7a5d9cd136dbdb": {
      "model_module": "@jupyter-widgets/controls",
      "model_module_version": "1.5.0",
      "model_name": "DescriptionStyleModel",
      "state": {
       "description_width": ""
      }
     },
     "6feb0d404d6a46c189efcb3d16bd5824": {
      "model_module": "@jupyter-widgets/base",
      "model_module_version": "1.2.0",
      "model_name": "LayoutModel",
      "state": {}
     },
     "70c43ce1adfb4b3dac701e0fdac6b53a": {
      "model_module": "@jupyter-widgets/base",
      "model_module_version": "1.2.0",
      "model_name": "LayoutModel",
      "state": {}
     },
     "70c527c17dfa439cb6d4ff4c1a20b3ce": {
      "model_module": "@jupyter-widgets/controls",
      "model_module_version": "1.5.0",
      "model_name": "DescriptionStyleModel",
      "state": {
       "description_width": ""
      }
     },
     "7117a5237e034da6b8ab487cce3dc254": {
      "model_module": "@jupyter-widgets/controls",
      "model_module_version": "1.5.0",
      "model_name": "FloatTextModel",
      "state": {
       "layout": "IPY_MODEL_d2d12d80ff704497971021f4f74667cf",
       "step": null,
       "style": "IPY_MODEL_f4f6a07b3cd640c19ef871b0a0b2bb06"
      }
     },
     "71b9de18f22c425a8bef6394f07353f5": {
      "model_module": "@jupyter-widgets/controls",
      "model_module_version": "1.5.0",
      "model_name": "FloatTextModel",
      "state": {
       "layout": "IPY_MODEL_222fb88792af459594ef1b74e3f3914c",
       "step": null,
       "style": "IPY_MODEL_d404967662f8439d88d15ba9c6e59d4d"
      }
     },
     "724654de42f24352bcc485ed6fa5df4e": {
      "model_module": "@jupyter-widgets/base",
      "model_module_version": "1.2.0",
      "model_name": "LayoutModel",
      "state": {}
     },
     "72ee3a8bc4134ddfa712cf28772dffd4": {
      "model_module": "@jupyter-widgets/controls",
      "model_module_version": "1.5.0",
      "model_name": "SliderStyleModel",
      "state": {
       "description_width": ""
      }
     },
     "7400c8fb927a47c787d040b152dcd160": {
      "model_module": "@jupyter-widgets/controls",
      "model_module_version": "1.5.0",
      "model_name": "DescriptionStyleModel",
      "state": {
       "description_width": ""
      }
     },
     "74586ce3c04f4abe97c1c5f496056581": {
      "model_module": "@jupyter-widgets/base",
      "model_module_version": "1.2.0",
      "model_name": "LayoutModel",
      "state": {}
     },
     "7484579f2b724829ad60cb5d78b5d2f2": {
      "model_module": "@jupyter-widgets/controls",
      "model_module_version": "1.5.0",
      "model_name": "DescriptionStyleModel",
      "state": {
       "description_width": ""
      }
     },
     "74e2b5b7ba4a49b4ad11f5927977c665": {
      "model_module": "@jupyter-widgets/base",
      "model_module_version": "1.2.0",
      "model_name": "LayoutModel",
      "state": {}
     },
     "760bfdf4bf3c4f199d4c64db31b6d3c8": {
      "model_module": "@jupyter-widgets/controls",
      "model_module_version": "1.5.0",
      "model_name": "FloatSliderModel",
      "state": {
       "description": "rake",
       "layout": "IPY_MODEL_1dff6aa591764c6ebe3f8338d7299ab0",
       "max": 180,
       "min": -180,
       "style": "IPY_MODEL_93f13b48c86444d0bc545911776bc530",
       "value": -63
      }
     },
     "7788a6119fd04438a827a95d5cb1272f": {
      "model_module": "@jupyter-widgets/base",
      "model_module_version": "1.2.0",
      "model_name": "LayoutModel",
      "state": {}
     },
     "77bab9ce2d424984872074f86e0e787c": {
      "model_module": "@jupyter-widgets/controls",
      "model_module_version": "1.5.0",
      "model_name": "SliderStyleModel",
      "state": {
       "description_width": ""
      }
     },
     "77df73e33eae4b108954ffc9217dc658": {
      "model_module": "@jupyter-widgets/controls",
      "model_module_version": "1.5.0",
      "model_name": "FloatTextModel",
      "state": {
       "layout": "IPY_MODEL_37394d4f35ce4c2191be3754fcb5cd41",
       "step": null,
       "style": "IPY_MODEL_f61823c6682344348ba053e92758e4cb",
       "value": -0.131
      }
     },
     "794d32031f2446f3b904977e89e79a6b": {
      "model_module": "@jupyter-widgets/base",
      "model_module_version": "1.2.0",
      "model_name": "LayoutModel",
      "state": {}
     },
     "7a5dba07be974ec09cd164181548182e": {
      "model_module": "@jupyter-widgets/controls",
      "model_module_version": "1.5.0",
      "model_name": "SliderStyleModel",
      "state": {
       "description_width": ""
      }
     },
     "7ac580d4be1148e0a7d8469c2b19eb45": {
      "model_module": "@jupyter-widgets/controls",
      "model_module_version": "1.5.0",
      "model_name": "FloatTextModel",
      "state": {
       "layout": "IPY_MODEL_1191d95eda774aeeb606afa2519c1ac0",
       "step": null,
       "style": "IPY_MODEL_ff47e0c3d8ef46039bb75671ddd1f1e0"
      }
     },
     "7af62d1589af430f89773dcf34b6ea16": {
      "model_module": "@jupyter-widgets/base",
      "model_module_version": "1.2.0",
      "model_name": "LayoutModel",
      "state": {}
     },
     "7b2316b3246c4a22a02d6d5ac78523e8": {
      "model_module": "@jupyter-widgets/controls",
      "model_module_version": "1.5.0",
      "model_name": "LinkModel",
      "state": {
       "source": [
        "IPY_MODEL_df32ffbafe544163a4f3ab72e93e3e07",
        "value"
       ],
       "target": [
        "IPY_MODEL_40fce280f9894cce8ac50d64d9d31a76",
        "value"
       ]
      }
     },
     "7b524eb0e97f42e18eb753e489bd524e": {
      "model_module": "@jupyter-widgets/controls",
      "model_module_version": "1.5.0",
      "model_name": "LinkModel",
      "state": {
       "source": [
        "IPY_MODEL_b05a8f91fa6f486795b4b9fc67fe7167",
        "value"
       ],
       "target": [
        "IPY_MODEL_07d55d890f8a4547a6e429ef8cab49ab",
        "value"
       ]
      }
     },
     "7b788334bf034da6b0f5a1520051bca5": {
      "model_module": "@jupyter-widgets/controls",
      "model_module_version": "1.5.0",
      "model_name": "DescriptionStyleModel",
      "state": {
       "description_width": ""
      }
     },
     "7cd42bb87728442b960821588f25cf4e": {
      "model_module": "@jupyter-widgets/controls",
      "model_module_version": "1.5.0",
      "model_name": "FloatSliderModel",
      "state": {
       "description": "dip",
       "layout": "IPY_MODEL_b808c9eba1d6451e8acb9333e158cde9",
       "max": 90,
       "min": -90,
       "style": "IPY_MODEL_a62c47f47af04a5d955bdb539aa32618",
       "value": -44
      }
     },
     "7ce04ea342d34f97a36bb3f896e4953b": {
      "model_module": "@jupyter-widgets/controls",
      "model_module_version": "1.5.0",
      "model_name": "FloatSliderModel",
      "state": {
       "description": "rake",
       "layout": "IPY_MODEL_9ee37ea6b8a54a3db672fd4eeff661a5",
       "max": 180,
       "min": -180,
       "style": "IPY_MODEL_0a7606f8f12e48c69b0c665933a0faf2"
      }
     },
     "7d61bf463dd0474b9c8c2b8e09a5f68e": {
      "model_module": "@jupyter-widgets/controls",
      "model_module_version": "1.5.0",
      "model_name": "SliderStyleModel",
      "state": {
       "description_width": ""
      }
     },
     "7db6f74f402d474483d2473786113a53": {
      "model_module": "@jupyter-widgets/base",
      "model_module_version": "1.2.0",
      "model_name": "LayoutModel",
      "state": {}
     },
     "7de7281c397c412aa3ceaa804dac95d5": {
      "model_module": "@jupyter-widgets/controls",
      "model_module_version": "1.5.0",
      "model_name": "LinkModel",
      "state": {
       "source": [
        "IPY_MODEL_00fbc922cbcb4380b6852460c7f01606",
        "value"
       ],
       "target": [
        "IPY_MODEL_fb13bd1be18c48d1a93f8039912ebbc7",
        "value"
       ]
      }
     },
     "7dfe07f3cc724cf7867d4447a23915d5": {
      "model_module": "@jupyter-widgets/controls",
      "model_module_version": "1.5.0",
      "model_name": "DescriptionStyleModel",
      "state": {
       "description_width": ""
      }
     },
     "7e7bb9ce924b41a68ec8fa27793bad73": {
      "model_module": "@jupyter-widgets/controls",
      "model_module_version": "1.5.0",
      "model_name": "SliderStyleModel",
      "state": {
       "description_width": ""
      }
     },
     "7e9640a2dba14fc09c1310e5cc4bd8df": {
      "model_module": "@jupyter-widgets/base",
      "model_module_version": "1.2.0",
      "model_name": "LayoutModel",
      "state": {}
     },
     "7f1c2a6634b64dea887e48706e0964fb": {
      "model_module": "@jupyter-widgets/controls",
      "model_module_version": "1.5.0",
      "model_name": "FloatSliderModel",
      "state": {
       "description": "dip",
       "layout": "IPY_MODEL_5819a55e627a47f99dd9cb176009da21",
       "max": 90,
       "min": -90,
       "style": "IPY_MODEL_7d61bf463dd0474b9c8c2b8e09a5f68e",
       "value": 15
      }
     },
     "7f3a12e8f1a8491ca216ae8646c6ba1d": {
      "model_module": "@jupyter-widgets/controls",
      "model_module_version": "1.5.0",
      "model_name": "FloatTextModel",
      "state": {
       "layout": "IPY_MODEL_fd72c06da77b4af3a565d802f03d4621",
       "step": null,
       "style": "IPY_MODEL_2905383581de4da282e2e10b7c7236a8",
       "value": -0.319
      }
     },
     "80be8fa729ff41d8b1cca5b74bb55fe8": {
      "model_module": "@jupyter-widgets/controls",
      "model_module_version": "1.5.0",
      "model_name": "FloatTextModel",
      "state": {
       "layout": "IPY_MODEL_c51e737ad44e4145b25f6ffca2cde5ff",
       "step": null,
       "style": "IPY_MODEL_6967224faa7e42749c23fab5a4cc0d53",
       "value": 0.043
      }
     },
     "80f0c152166643f7b7a3c034448a31d3": {
      "model_module": "@jupyter-widgets/controls",
      "model_module_version": "1.5.0",
      "model_name": "DescriptionStyleModel",
      "state": {
       "description_width": ""
      }
     },
     "816dbead60354eebaf39dfc2178c0fd2": {
      "model_module": "@jupyter-widgets/controls",
      "model_module_version": "1.5.0",
      "model_name": "DescriptionStyleModel",
      "state": {
       "description_width": ""
      }
     },
     "828db51bd0cb49f0a860a25d3c846015": {
      "model_module": "@jupyter-widgets/controls",
      "model_module_version": "1.5.0",
      "model_name": "SliderStyleModel",
      "state": {
       "description_width": ""
      }
     },
     "836819e93cef4ba5a7fb8fc3404abf6c": {
      "model_module": "@jupyter-widgets/base",
      "model_module_version": "1.2.0",
      "model_name": "LayoutModel",
      "state": {}
     },
     "84c52198b277403ab96c784164eb3cda": {
      "model_module": "@jupyter-widgets/base",
      "model_module_version": "1.2.0",
      "model_name": "LayoutModel",
      "state": {}
     },
     "871107e4173f4dbb995c5061604cd40a": {
      "model_module": "@jupyter-widgets/base",
      "model_module_version": "1.2.0",
      "model_name": "LayoutModel",
      "state": {}
     },
     "88284932f7d34c8eacd2ecaf0ed63403": {
      "model_module": "@jupyter-widgets/controls",
      "model_module_version": "1.5.0",
      "model_name": "FloatTextModel",
      "state": {
       "layout": "IPY_MODEL_156d91a2f3da4b069ef1e097cc360bc2",
       "step": null,
       "style": "IPY_MODEL_6c12c92dc19648bf8651fb3961b11f9c",
       "value": -0.148
      }
     },
     "8899d3a90f984507a851ca34094d9c54": {
      "model_module": "@jupyter-widgets/controls",
      "model_module_version": "1.5.0",
      "model_name": "FloatSliderModel",
      "state": {
       "description": "dip",
       "layout": "IPY_MODEL_102122665b2f4deb910f861ce6621533",
       "max": 90,
       "min": -90,
       "style": "IPY_MODEL_2df4e83480e0491f8faa6303bd806344",
       "value": 5
      }
     },
     "88b953c6208e4909b49c74bedbbfad6b": {
      "model_module": "@jupyter-widgets/controls",
      "model_module_version": "1.5.0",
      "model_name": "SliderStyleModel",
      "state": {
       "description_width": ""
      }
     },
     "8957c525601a46bba38247f049dac02f": {
      "model_module": "@jupyter-widgets/controls",
      "model_module_version": "1.5.0",
      "model_name": "LinkModel",
      "state": {
       "source": [
        "IPY_MODEL_cf3919e58c154a4fa13701e7c2991e6b",
        "value"
       ],
       "target": [
        "IPY_MODEL_0b6e90cddcbe45cda5e2a01639254c8b",
        "value"
       ]
      }
     },
     "89a8bfb0d96f48b0a2070e4d97e854cc": {
      "model_module": "@jupyter-widgets/controls",
      "model_module_version": "1.5.0",
      "model_name": "DescriptionStyleModel",
      "state": {
       "description_width": ""
      }
     },
     "89ab61a7b1b84ced94a1ace1c2aa6cd8": {
      "model_module": "@jupyter-widgets/controls",
      "model_module_version": "1.5.0",
      "model_name": "LinkModel",
      "state": {
       "source": [
        "IPY_MODEL_b93d1260b9c44f3ab118eef2bd829e2d",
        "value"
       ],
       "target": [
        "IPY_MODEL_edb4416fec6e44f988d36f8c2419b8cf",
        "value"
       ]
      }
     },
     "89e8152295df4969ba6dd84363b953c8": {
      "model_module": "@jupyter-widgets/controls",
      "model_module_version": "1.5.0",
      "model_name": "FloatTextModel",
      "state": {
       "layout": "IPY_MODEL_3a71142f03124355a3156f2d0ce16b9a",
       "step": null,
       "style": "IPY_MODEL_80f0c152166643f7b7a3c034448a31d3",
       "value": -0.063
      }
     },
     "8a12690830534d79b6a38d20674d38aa": {
      "model_module": "@jupyter-widgets/output",
      "model_module_version": "1.0.0",
      "model_name": "OutputModel",
      "state": {
       "layout": "IPY_MODEL_b9dce9d995c24a66bfab0829f44f3d26"
      }
     },
     "8a22a5bf625b41b3932567aadb524e44": {
      "model_module": "@jupyter-widgets/controls",
      "model_module_version": "1.5.0",
      "model_name": "FloatTextModel",
      "state": {
       "layout": "IPY_MODEL_e83ed642b99d4f719a194db550ac10e6",
       "step": null,
       "style": "IPY_MODEL_e784c79470a145e18c55367ee43e54ca",
       "value": -0.198
      }
     },
     "8a84fc45801743239975a1fd48f38daa": {
      "model_module": "@jupyter-widgets/controls",
      "model_module_version": "1.5.0",
      "model_name": "DescriptionStyleModel",
      "state": {
       "description_width": ""
      }
     },
     "8abc4ff19b1e48a6aa869bdbae6bca6d": {
      "model_module": "@jupyter-widgets/base",
      "model_module_version": "1.2.0",
      "model_name": "LayoutModel",
      "state": {}
     },
     "8ae139152b4342f88ab786fa7d898a43": {
      "model_module": "@jupyter-widgets/controls",
      "model_module_version": "1.5.0",
      "model_name": "DescriptionStyleModel",
      "state": {
       "description_width": ""
      }
     },
     "8b2755db89804e4db5f4b0ebcfbeadfe": {
      "model_module": "@jupyter-widgets/controls",
      "model_module_version": "1.5.0",
      "model_name": "DescriptionStyleModel",
      "state": {
       "description_width": ""
      }
     },
     "8b8cd628ef704ab685994b33d20f675a": {
      "model_module": "@jupyter-widgets/controls",
      "model_module_version": "1.5.0",
      "model_name": "SliderStyleModel",
      "state": {
       "description_width": ""
      }
     },
     "8ca3d6f87c574c80bbcda193ae6bc44c": {
      "model_module": "@jupyter-widgets/controls",
      "model_module_version": "1.5.0",
      "model_name": "FloatSliderModel",
      "state": {
       "description": "strike",
       "layout": "IPY_MODEL_f5d7a632416d491b81dd0b93ec8bed6f",
       "max": 360,
       "style": "IPY_MODEL_1ccca77d2a0146efaaf15f4f50b1fac6"
      }
     },
     "8d69ec1ae7584941a6677507cd7bf2f9": {
      "model_module": "@jupyter-widgets/controls",
      "model_module_version": "1.5.0",
      "model_name": "FloatTextModel",
      "state": {
       "layout": "IPY_MODEL_994c134aaa004c80b8194db966e27347",
       "step": null,
       "style": "IPY_MODEL_0d91a4ea47b84d46810e1a3f053e291f"
      }
     },
     "8da68f4fca4e4f7285407a73869b9515": {
      "model_module": "@jupyter-widgets/controls",
      "model_module_version": "1.5.0",
      "model_name": "SliderStyleModel",
      "state": {
       "description_width": ""
      }
     },
     "8e5710774d8249b2809bff4946733d27": {
      "model_module": "@jupyter-widgets/controls",
      "model_module_version": "1.5.0",
      "model_name": "FloatTextModel",
      "state": {
       "layout": "IPY_MODEL_7788a6119fd04438a827a95d5cb1272f",
       "step": null,
       "style": "IPY_MODEL_f2b62929090e454090eda06f6a579462"
      }
     },
     "8f6a18284d4d4adfa296b1644f12273d": {
      "model_module": "@jupyter-widgets/controls",
      "model_module_version": "1.5.0",
      "model_name": "LabelModel",
      "state": {
       "layout": "IPY_MODEL_7db6f74f402d474483d2473786113a53",
       "style": "IPY_MODEL_816dbead60354eebaf39dfc2178c0fd2",
       "value": "Moment Tensor"
      }
     },
     "8fe87dacbde6495cb38ef8259516f6fe": {
      "model_module": "@jupyter-widgets/controls",
      "model_module_version": "1.5.0",
      "model_name": "FloatTextModel",
      "state": {
       "layout": "IPY_MODEL_322267bb30444f05b5254161bb7bb7e2",
       "step": null,
       "style": "IPY_MODEL_3d22f3b8fafd4d2f82c2da6156f99da6",
       "value": -0.665
      }
     },
     "8ffb03a9704046dd8855db4430339a22": {
      "model_module": "@jupyter-widgets/base",
      "model_module_version": "1.2.0",
      "model_name": "LayoutModel",
      "state": {}
     },
     "900e99cb55c84edab87b48cc565ebbbd": {
      "model_module": "@jupyter-widgets/base",
      "model_module_version": "1.2.0",
      "model_name": "LayoutModel",
      "state": {}
     },
     "9021213cfb0a418e9e99818d9191bb07": {
      "model_module": "@jupyter-widgets/controls",
      "model_module_version": "1.5.0",
      "model_name": "DescriptionStyleModel",
      "state": {
       "description_width": ""
      }
     },
     "909716827ba84175811affee8e5476ed": {
      "model_module": "@jupyter-widgets/controls",
      "model_module_version": "1.5.0",
      "model_name": "FloatSliderModel",
      "state": {
       "description": "clvd",
       "layout": "IPY_MODEL_6c198eb621b74098a2ff6d7ce392e1bf",
       "min": -100,
       "style": "IPY_MODEL_e6ddee86af3b46aa84f4b92de62a2ac7",
       "value": 40
      }
     },
     "9139c25b19444da2905169e230eb546a": {
      "model_module": "@jupyter-widgets/controls",
      "model_module_version": "1.5.0",
      "model_name": "FloatSliderModel",
      "state": {
       "description": "iso",
       "layout": "IPY_MODEL_d7a3a905e5fb4c3283377115048767a8",
       "min": -100,
       "style": "IPY_MODEL_2c45475ca7af4e2cae39dd43dd2dd393",
       "value": -19
      }
     },
     "914a1daa2b944e59bd3ade8babac02a8": {
      "model_module": "@jupyter-widgets/controls",
      "model_module_version": "1.5.0",
      "model_name": "DescriptionStyleModel",
      "state": {
       "description_width": ""
      }
     },
     "91a056bc1971464abe1fbb61027cc30a": {
      "model_module": "@jupyter-widgets/base",
      "model_module_version": "1.2.0",
      "model_name": "LayoutModel",
      "state": {}
     },
     "92569837dcd044f8a7e399b60f6b3071": {
      "model_module": "@jupyter-widgets/controls",
      "model_module_version": "1.5.0",
      "model_name": "FloatTextModel",
      "state": {
       "layout": "IPY_MODEL_e94b6eaa755540539655dbc0a1f39460",
       "step": null,
       "style": "IPY_MODEL_27f9fd2f1ebe4dab893a3543f06c75d2"
      }
     },
     "92dca912b5bd487b96514479f6a0bac2": {
      "model_module": "@jupyter-widgets/base",
      "model_module_version": "1.2.0",
      "model_name": "LayoutModel",
      "state": {}
     },
     "934b72ef3c844a1ebf6f48e95bb5b911": {
      "model_module": "@jupyter-widgets/controls",
      "model_module_version": "1.5.0",
      "model_name": "LabelModel",
      "state": {
       "layout": "IPY_MODEL_7e9640a2dba14fc09c1310e5cc4bd8df",
       "style": "IPY_MODEL_c49923ebcd6b451d85ddbfe0193880f6",
       "value": "Moment Tensor"
      }
     },
     "937c9d7fe4f942378b90d0ab5172bec9": {
      "model_module": "@jupyter-widgets/base",
      "model_module_version": "1.2.0",
      "model_name": "LayoutModel",
      "state": {}
     },
     "93e5a0ba2e3346e1878ab7179de26cef": {
      "model_module": "@jupyter-widgets/base",
      "model_module_version": "1.2.0",
      "model_name": "LayoutModel",
      "state": {}
     },
     "93f13b48c86444d0bc545911776bc530": {
      "model_module": "@jupyter-widgets/controls",
      "model_module_version": "1.5.0",
      "model_name": "SliderStyleModel",
      "state": {
       "description_width": ""
      }
     },
     "941f87aab2434aa3ab9d4e0fcaf9c610": {
      "model_module": "@jupyter-widgets/controls",
      "model_module_version": "1.5.0",
      "model_name": "DescriptionStyleModel",
      "state": {
       "description_width": ""
      }
     },
     "94fe1d5c52284838a9adf36917fdfcb3": {
      "model_module": "@jupyter-widgets/base",
      "model_module_version": "1.2.0",
      "model_name": "LayoutModel",
      "state": {}
     },
     "9538e170932040de8eba812278e840be": {
      "model_module": "@jupyter-widgets/base",
      "model_module_version": "1.2.0",
      "model_name": "LayoutModel",
      "state": {}
     },
     "957a40c0dde94804993a19c3523d31d8": {
      "model_module": "@jupyter-widgets/base",
      "model_module_version": "1.2.0",
      "model_name": "LayoutModel",
      "state": {}
     },
     "96d9baca8e3f4e50aafd3ae3684c00b3": {
      "model_module": "@jupyter-widgets/controls",
      "model_module_version": "1.5.0",
      "model_name": "FloatTextModel",
      "state": {
       "layout": "IPY_MODEL_978d78cb89bf4bd1bd66090ee469f5d5",
       "step": null,
       "style": "IPY_MODEL_b058177814e945bf921346d6927d8546",
       "value": 0.211
      }
     },
     "9745627b81d94a4a9ceaffd640464f54": {
      "model_module": "@jupyter-widgets/controls",
      "model_module_version": "1.5.0",
      "model_name": "GridBoxModel",
      "state": {
       "children": [
        "IPY_MODEL_ce9bed0f6af24ea78674940c1aac283f",
        "IPY_MODEL_1eccfc188a4f407cbcdc3d4fd4cc100c",
        "IPY_MODEL_69bfab0a35a54a92a8b98101a3da8678",
        "IPY_MODEL_8a22a5bf625b41b3932567aadb524e44",
        "IPY_MODEL_d3a88f41f2e84d3ea4d746cc342f654a",
        "IPY_MODEL_8fe87dacbde6495cb38ef8259516f6fe",
        "IPY_MODEL_acb21880070b4adeb7e7449c5fe85b53",
        "IPY_MODEL_366dc06749bd40ffa9a9968fbf452d94",
        "IPY_MODEL_1b03881e07d44489b99ceff25052f8d6"
       ],
       "layout": "IPY_MODEL_a2eecc4662234bccb3f53c807f101e37"
      }
     },
     "97773d1b1f354b0c947e0f6ca532cc9e": {
      "model_module": "@jupyter-widgets/controls",
      "model_module_version": "1.5.0",
      "model_name": "DescriptionStyleModel",
      "state": {
       "description_width": ""
      }
     },
     "978d78cb89bf4bd1bd66090ee469f5d5": {
      "model_module": "@jupyter-widgets/base",
      "model_module_version": "1.2.0",
      "model_name": "LayoutModel",
      "state": {}
     },
     "983fc8ad09c846868a90ac4efc45e68b": {
      "model_module": "@jupyter-widgets/controls",
      "model_module_version": "1.5.0",
      "model_name": "FloatTextModel",
      "state": {
       "layout": "IPY_MODEL_5e11c7134b974bf4a9e7886dbcb6d6de",
       "step": null,
       "style": "IPY_MODEL_6f482bc3d3d445419b7a5d9cd136dbdb",
       "value": 0.014
      }
     },
     "9933df61ea5b49898164ec0c3bda84b6": {
      "model_module": "@jupyter-widgets/controls",
      "model_module_version": "1.5.0",
      "model_name": "DescriptionStyleModel",
      "state": {
       "description_width": ""
      }
     },
     "994c134aaa004c80b8194db966e27347": {
      "model_module": "@jupyter-widgets/base",
      "model_module_version": "1.2.0",
      "model_name": "LayoutModel",
      "state": {}
     },
     "996dba07383d4369baa073791aa2ecb2": {
      "model_module": "@jupyter-widgets/controls",
      "model_module_version": "1.5.0",
      "model_name": "DescriptionStyleModel",
      "state": {
       "description_width": ""
      }
     },
     "9aa662dee5ae4ce39e69dc30a7093cb5": {
      "model_module": "@jupyter-widgets/controls",
      "model_module_version": "1.5.0",
      "model_name": "VBoxModel",
      "state": {
       "_dom_classes": [
        "widget-interact"
       ],
       "children": [
        "IPY_MODEL_ea53ed97ec1242ccb33dd6f7de77a621",
        "IPY_MODEL_7cd42bb87728442b960821588f25cf4e",
        "IPY_MODEL_e202e4d4815648bf87f2ba3136e6cb48",
        "IPY_MODEL_4d455f41dd9c4fe49a950b11fc1ac3f1",
        "IPY_MODEL_64d2ce57b7d549be8f05a5f1422e0220",
        "IPY_MODEL_bd317b7f928d4f798085bbbff52b2f5f"
       ],
       "layout": "IPY_MODEL_4a165c4ed76f431b853cb62b4acd1b63"
      }
     },
     "9bfa66133a96436f82220dee75cd0d51": {
      "model_module": "@jupyter-widgets/controls",
      "model_module_version": "1.5.0",
      "model_name": "FloatSliderModel",
      "state": {
       "description": "clvd",
       "layout": "IPY_MODEL_2d157fbcb7584f6c8d8a65f79564b5b3",
       "min": -100,
       "style": "IPY_MODEL_b0fd724c9f3146008d17f17e711884a3"
      }
     },
     "9c0ffb2107644d06a717e1b8a19a649e": {
      "model_module": "@jupyter-widgets/controls",
      "model_module_version": "1.5.0",
      "model_name": "FloatTextModel",
      "state": {
       "layout": "IPY_MODEL_d98231f6a8124e858053f703f47bbf0d",
       "step": null,
       "style": "IPY_MODEL_d550b106596d48b79bf9e6247961cf91"
      }
     },
     "9caece00725141df929c88a0e8fa2935": {
      "model_module": "@jupyter-widgets/controls",
      "model_module_version": "1.5.0",
      "model_name": "FloatSliderModel",
      "state": {
       "description": "strike",
       "layout": "IPY_MODEL_65bfc4e1dbc342449fb42ed114df4b92",
       "max": 360,
       "style": "IPY_MODEL_1831501efb79475aa72c1fc6f3d0fee3",
       "value": 52
      }
     },
     "9cd38986eebe437dbae828af7b2d0bb7": {
      "model_module": "@jupyter-widgets/controls",
      "model_module_version": "1.5.0",
      "model_name": "GridBoxModel",
      "state": {
       "children": [
        "IPY_MODEL_b619c8664d0c49cd8a43eeb609191f77",
        "IPY_MODEL_7ac580d4be1148e0a7d8469c2b19eb45",
        "IPY_MODEL_a813cce9cb60462ea16072902a2e9bd4",
        "IPY_MODEL_5832112e0e5b49879a5fea4bc75a8b0c",
        "IPY_MODEL_f3f8f4cdabc34a28a12e5a3cd36ac91f",
        "IPY_MODEL_92569837dcd044f8a7e399b60f6b3071",
        "IPY_MODEL_4a0e7ca92f7a4edb9fa29be29eca0cd6",
        "IPY_MODEL_2e913784d83a4ec390852042c7e0925b",
        "IPY_MODEL_a36c0e82a59a4c58a859816cd74f3ff8"
       ],
       "layout": "IPY_MODEL_136fd253bcac4eb4b4116fa70edca012"
      }
     },
     "9d5d50a5f1bc4bf7a0ae965bf63d80f0": {
      "model_module": "@jupyter-widgets/base",
      "model_module_version": "1.2.0",
      "model_name": "LayoutModel",
      "state": {}
     },
     "9e9502f2de4f4035b7768f7055e1a21f": {
      "model_module": "@jupyter-widgets/base",
      "model_module_version": "1.2.0",
      "model_name": "LayoutModel",
      "state": {}
     },
     "9ec437618b9a4219912f66f91c33c172": {
      "model_module": "@jupyter-widgets/controls",
      "model_module_version": "1.5.0",
      "model_name": "SliderStyleModel",
      "state": {
       "description_width": ""
      }
     },
     "9ee37ea6b8a54a3db672fd4eeff661a5": {
      "model_module": "@jupyter-widgets/base",
      "model_module_version": "1.2.0",
      "model_name": "LayoutModel",
      "state": {}
     },
     "9fc0a5e73a5d43df941deb81ae245108": {
      "model_module": "@jupyter-widgets/controls",
      "model_module_version": "1.5.0",
      "model_name": "FloatSliderModel",
      "state": {
       "description": "strike",
       "layout": "IPY_MODEL_583c6991a3c1411c80340cdc4ace32b6",
       "max": 360,
       "style": "IPY_MODEL_4806eb2ca26c4408b2a4d19aa55bfd26"
      }
     },
     "a18cc1fb538c4ee3b3c41c677b365730": {
      "model_module": "@jupyter-widgets/base",
      "model_module_version": "1.2.0",
      "model_name": "LayoutModel",
      "state": {}
     },
     "a1f116cffd0948f5b39673eee7ea72ec": {
      "model_module": "@jupyter-widgets/controls",
      "model_module_version": "1.5.0",
      "model_name": "VBoxModel",
      "state": {
       "_dom_classes": [
        "widget-interact"
       ],
       "children": [
        "IPY_MODEL_c183793db57946f9bb9cecc8296ddbb5",
        "IPY_MODEL_5fc739bfb2304fc88648826a92bcb73b",
        "IPY_MODEL_f4720578c3394bcda8e112e774cc67e5",
        "IPY_MODEL_5cc4fa6a3bf54373849d41dcb24f4b80",
        "IPY_MODEL_5c1e383267ee49d1adf138927c39814a",
        "IPY_MODEL_e67401eb4fed47ffba8ce7e424f2ea32"
       ],
       "layout": "IPY_MODEL_b9c209d51097463c89116e973d273ade"
      }
     },
     "a2eecc4662234bccb3f53c807f101e37": {
      "model_module": "@jupyter-widgets/base",
      "model_module_version": "1.2.0",
      "model_name": "LayoutModel",
      "state": {
       "grid_template_columns": "100px 100px 100px",
       "grid_template_rows": "auto auto auto",
       "width": "300px"
      }
     },
     "a36c0e82a59a4c58a859816cd74f3ff8": {
      "model_module": "@jupyter-widgets/controls",
      "model_module_version": "1.5.0",
      "model_name": "FloatTextModel",
      "state": {
       "layout": "IPY_MODEL_53d375f8628d46ffb11d96e9dd4599a7",
       "step": null,
       "style": "IPY_MODEL_914a1daa2b944e59bd3ade8babac02a8"
      }
     },
     "a62c47f47af04a5d955bdb539aa32618": {
      "model_module": "@jupyter-widgets/controls",
      "model_module_version": "1.5.0",
      "model_name": "SliderStyleModel",
      "state": {
       "description_width": ""
      }
     },
     "a6772ba8b1fa4e268fab34111d1a52ce": {
      "model_module": "@jupyter-widgets/controls",
      "model_module_version": "1.5.0",
      "model_name": "LinkModel",
      "state": {
       "source": [
        "IPY_MODEL_c5dbb38cd4dd4be985cad7615da3b75d",
        "value"
       ],
       "target": [
        "IPY_MODEL_d8a93ccc1a88452e83838dd56a9748da",
        "value"
       ]
      }
     },
     "a701337fe65f422b9815c71b6cf56739": {
      "model_module": "@jupyter-widgets/base",
      "model_module_version": "1.2.0",
      "model_name": "LayoutModel",
      "state": {}
     },
     "a72a9d368e0042f6b87555ab31b88240": {
      "model_module": "@jupyter-widgets/controls",
      "model_module_version": "1.5.0",
      "model_name": "FloatTextModel",
      "state": {
       "layout": "IPY_MODEL_eae174c5ab2148e1bfc7be3d8c2329cc",
       "step": null,
       "style": "IPY_MODEL_9021213cfb0a418e9e99818d9191bb07",
       "value": 0.172
      }
     },
     "a7547288bdb646139b90c556afb47953": {
      "model_module": "@jupyter-widgets/controls",
      "model_module_version": "1.5.0",
      "model_name": "FloatTextModel",
      "state": {
       "layout": "IPY_MODEL_35153c02fc8a41bb88a189555286600e",
       "step": null,
       "style": "IPY_MODEL_45dbbfef8b044af08beffbb1b0ef8dc3",
       "value": 0.498
      }
     },
     "a813cce9cb60462ea16072902a2e9bd4": {
      "model_module": "@jupyter-widgets/controls",
      "model_module_version": "1.5.0",
      "model_name": "FloatTextModel",
      "state": {
       "layout": "IPY_MODEL_ccf5386ff4294433b37d893c9e52fe26",
       "step": null,
       "style": "IPY_MODEL_06a485b9ce7445948739bb8a49115441",
       "value": -1
      }
     },
     "a8748164f91644ec925aaa36b1cadc9c": {
      "model_module": "@jupyter-widgets/controls",
      "model_module_version": "1.5.0",
      "model_name": "FloatTextModel",
      "state": {
       "layout": "IPY_MODEL_558accf26b104b1a91c05c53239dd1db",
       "step": null,
       "style": "IPY_MODEL_c27816f990b547f299f68226a9272637",
       "value": -0.148
      }
     },
     "a8e47e36591b46ceaa553c453a74173d": {
      "model_module": "@jupyter-widgets/base",
      "model_module_version": "1.2.0",
      "model_name": "LayoutModel",
      "state": {}
     },
     "a99ad67abfbe4cf28973cefa69b3a844": {
      "model_module": "@jupyter-widgets/controls",
      "model_module_version": "1.5.0",
      "model_name": "FloatSliderModel",
      "state": {
       "description": "iso",
       "layout": "IPY_MODEL_24c0f60dff474f1488b8f76453456cbc",
       "min": -100,
       "style": "IPY_MODEL_6eb164e59b9c4a32889505c541f350e2"
      }
     },
     "aa0eb724806448ccab43d7bbefd870c9": {
      "model_module": "@jupyter-widgets/controls",
      "model_module_version": "1.5.0",
      "model_name": "LinkModel",
      "state": {
       "source": [
        "IPY_MODEL_c87428a3937749ec91fdfdd9a3fd10b8",
        "value"
       ],
       "target": [
        "IPY_MODEL_b796c06e134a4fc294c3ed27c86eba78",
        "value"
       ]
      }
     },
     "aa255ab85c044541b1df6b7187c2bce1": {
      "model_module": "@jupyter-widgets/base",
      "model_module_version": "1.2.0",
      "model_name": "LayoutModel",
      "state": {}
     },
     "ab9402f838ae4f7981eaa6905ee8d3e8": {
      "model_module": "@jupyter-widgets/base",
      "model_module_version": "1.2.0",
      "model_name": "LayoutModel",
      "state": {}
     },
     "acb21880070b4adeb7e7449c5fe85b53": {
      "model_module": "@jupyter-widgets/controls",
      "model_module_version": "1.5.0",
      "model_name": "FloatTextModel",
      "state": {
       "layout": "IPY_MODEL_15b05c0792934aa4ba73081040be633f",
       "step": null,
       "style": "IPY_MODEL_7b788334bf034da6b0f5a1520051bca5",
       "value": 0.274
      }
     },
     "af39967b9d1d4100a25c9a9ae64ad958": {
      "model_module": "@jupyter-widgets/base",
      "model_module_version": "1.2.0",
      "model_name": "LayoutModel",
      "state": {}
     },
     "afff8576ba5d49af8cdcc79c4f5f93ca": {
      "model_module": "@jupyter-widgets/base",
      "model_module_version": "1.2.0",
      "model_name": "LayoutModel",
      "state": {}
     },
     "b0104609b90c4372811c624eb2218ecd": {
      "model_module": "@jupyter-widgets/controls",
      "model_module_version": "1.5.0",
      "model_name": "FloatTextModel",
      "state": {
       "layout": "IPY_MODEL_871107e4173f4dbb995c5061604cd40a",
       "step": null,
       "style": "IPY_MODEL_14439edded6a4647a647af1940e4f564",
       "value": -0.206
      }
     },
     "b01f7c580e7e4414b5755e180b171cb4": {
      "model_module": "@jupyter-widgets/base",
      "model_module_version": "1.2.0",
      "model_name": "LayoutModel",
      "state": {}
     },
     "b058177814e945bf921346d6927d8546": {
      "model_module": "@jupyter-widgets/controls",
      "model_module_version": "1.5.0",
      "model_name": "DescriptionStyleModel",
      "state": {
       "description_width": ""
      }
     },
     "b05a8f91fa6f486795b4b9fc67fe7167": {
      "model_module": "@jupyter-widgets/controls",
      "model_module_version": "1.5.0",
      "model_name": "FloatTextModel",
      "state": {
       "layout": "IPY_MODEL_20a0172e13ed4f9e8bad01efc7069fd1",
       "step": null,
       "style": "IPY_MODEL_7484579f2b724829ad60cb5d78b5d2f2",
       "value": -1
      }
     },
     "b0e1087fb3e44f3f83415bb90eec0ac2": {
      "model_module": "@jupyter-widgets/base",
      "model_module_version": "1.2.0",
      "model_name": "LayoutModel",
      "state": {
       "grid_template_columns": "100px 100px 100px",
       "grid_template_rows": "auto auto auto",
       "width": "300px"
      }
     },
     "b0fd724c9f3146008d17f17e711884a3": {
      "model_module": "@jupyter-widgets/controls",
      "model_module_version": "1.5.0",
      "model_name": "SliderStyleModel",
      "state": {
       "description_width": ""
      }
     },
     "b122c19a1e1d4c608207f4de6e360ec1": {
      "model_module": "@jupyter-widgets/base",
      "model_module_version": "1.2.0",
      "model_name": "LayoutModel",
      "state": {}
     },
     "b12f857289314ce283ae116a40a899a0": {
      "model_module": "@jupyter-widgets/base",
      "model_module_version": "1.2.0",
      "model_name": "LayoutModel",
      "state": {}
     },
     "b1be95e161e8448bb093992c3f825a2b": {
      "model_module": "@jupyter-widgets/base",
      "model_module_version": "1.2.0",
      "model_name": "LayoutModel",
      "state": {}
     },
     "b1deeabf837a4331ab4d1e712459978f": {
      "model_module": "@jupyter-widgets/controls",
      "model_module_version": "1.5.0",
      "model_name": "DescriptionStyleModel",
      "state": {
       "description_width": ""
      }
     },
     "b2d29488b039408cac33cdaef58446c2": {
      "model_module": "@jupyter-widgets/controls",
      "model_module_version": "1.5.0",
      "model_name": "GridBoxModel",
      "state": {
       "children": [
        "IPY_MODEL_072e167ba7864b50b2678a5fc75c9b14",
        "IPY_MODEL_cf3919e58c154a4fa13701e7c2991e6b",
        "IPY_MODEL_b05a8f91fa6f486795b4b9fc67fe7167",
        "IPY_MODEL_0b6e90cddcbe45cda5e2a01639254c8b",
        "IPY_MODEL_8d69ec1ae7584941a6677507cd7bf2f9",
        "IPY_MODEL_7117a5237e034da6b8ab487cce3dc254",
        "IPY_MODEL_07d55d890f8a4547a6e429ef8cab49ab",
        "IPY_MODEL_12c5311de64d4705b9feecd7bd7a76d7",
        "IPY_MODEL_13e75a29ff3c41a29f284571da1a7184"
       ],
       "layout": "IPY_MODEL_5619b7aba74c48e2938556d21e3bdec3"
      }
     },
     "b3927a6aeb294101a3d24320087aac7d": {
      "model_module": "@jupyter-widgets/base",
      "model_module_version": "1.2.0",
      "model_name": "LayoutModel",
      "state": {}
     },
     "b48ad7d09ab7420bb1bdafdc42c1ea2b": {
      "model_module": "@jupyter-widgets/controls",
      "model_module_version": "1.5.0",
      "model_name": "DescriptionStyleModel",
      "state": {
       "description_width": ""
      }
     },
     "b50c0fcae2af48518b2cbcb776183fd6": {
      "model_module": "@jupyter-widgets/controls",
      "model_module_version": "1.5.0",
      "model_name": "LabelModel",
      "state": {
       "layout": "IPY_MODEL_2438d42212e64d52927a93a95693df02",
       "style": "IPY_MODEL_996dba07383d4369baa073791aa2ecb2",
       "value": "Moment Tensor"
      }
     },
     "b619c8664d0c49cd8a43eeb609191f77": {
      "model_module": "@jupyter-widgets/controls",
      "model_module_version": "1.5.0",
      "model_name": "FloatTextModel",
      "state": {
       "layout": "IPY_MODEL_8ffb03a9704046dd8855db4430339a22",
       "step": null,
       "style": "IPY_MODEL_db570a1cd04846caa1b0a44191350057"
      }
     },
     "b796c06e134a4fc294c3ed27c86eba78": {
      "model_module": "@jupyter-widgets/controls",
      "model_module_version": "1.5.0",
      "model_name": "FloatTextModel",
      "state": {
       "layout": "IPY_MODEL_84c52198b277403ab96c784164eb3cda",
       "step": null,
       "style": "IPY_MODEL_8ae139152b4342f88ab786fa7d898a43",
       "value": 0.188
      }
     },
     "b808c9eba1d6451e8acb9333e158cde9": {
      "model_module": "@jupyter-widgets/base",
      "model_module_version": "1.2.0",
      "model_name": "LayoutModel",
      "state": {}
     },
     "b917bef1fd544d1c8c456a83a41119cd": {
      "model_module": "@jupyter-widgets/controls",
      "model_module_version": "1.5.0",
      "model_name": "FloatTextModel",
      "state": {
       "layout": "IPY_MODEL_da7cfd797c42420691f60eb3cd4d03b8",
       "step": null,
       "style": "IPY_MODEL_cb0476fc34684c9c8b7040dedb2fbec1",
       "value": 0.231
      }
     },
     "b93d1260b9c44f3ab118eef2bd829e2d": {
      "model_module": "@jupyter-widgets/controls",
      "model_module_version": "1.5.0",
      "model_name": "FloatTextModel",
      "state": {
       "layout": "IPY_MODEL_d2862f2e149046c2b671ec811841c1c6",
       "step": null,
       "style": "IPY_MODEL_07768635851b43348ae58ff1aef56787",
       "value": -0.181
      }
     },
     "b98bbc70edfa4691af4685281ca168d0": {
      "model_module": "@jupyter-widgets/controls",
      "model_module_version": "1.5.0",
      "model_name": "DescriptionStyleModel",
      "state": {
       "description_width": ""
      }
     },
     "b9c209d51097463c89116e973d273ade": {
      "model_module": "@jupyter-widgets/base",
      "model_module_version": "1.2.0",
      "model_name": "LayoutModel",
      "state": {}
     },
     "b9dce9d995c24a66bfab0829f44f3d26": {
      "model_module": "@jupyter-widgets/base",
      "model_module_version": "1.2.0",
      "model_name": "LayoutModel",
      "state": {}
     },
     "b9ee3419ea4b46f7bacb4c9851e17f8c": {
      "model_module": "@jupyter-widgets/base",
      "model_module_version": "1.2.0",
      "model_name": "LayoutModel",
      "state": {}
     },
     "bb4eeca5ebf548119e8a6cc6888bed25": {
      "model_module": "@jupyter-widgets/controls",
      "model_module_version": "1.5.0",
      "model_name": "DescriptionStyleModel",
      "state": {
       "description_width": ""
      }
     },
     "bb5dddcad4b447cf9a038ab441d01680": {
      "model_module": "@jupyter-widgets/base",
      "model_module_version": "1.2.0",
      "model_name": "LayoutModel",
      "state": {}
     },
     "bbe588c0dfe44fc9ae7fb6a44ab98dfd": {
      "model_module": "@jupyter-widgets/base",
      "model_module_version": "1.2.0",
      "model_name": "LayoutModel",
      "state": {}
     },
     "bd317b7f928d4f798085bbbff52b2f5f": {
      "model_module": "@jupyter-widgets/output",
      "model_module_version": "1.0.0",
      "model_name": "OutputModel",
      "state": {
       "layout": "IPY_MODEL_724654de42f24352bcc485ed6fa5df4e"
      }
     },
     "bec8487a06a0475b8bd3523d320091b9": {
      "model_module": "@jupyter-widgets/output",
      "model_module_version": "1.0.0",
      "model_name": "OutputModel",
      "state": {
       "layout": "IPY_MODEL_cbe8b374fc024b218639cbcdeeb19e0c"
      }
     },
     "c0f8c52d9d4e4165808c79a63647adc9": {
      "model_module": "@jupyter-widgets/controls",
      "model_module_version": "1.5.0",
      "model_name": "DescriptionStyleModel",
      "state": {
       "description_width": ""
      }
     },
     "c11f5364f82140a4ab5bc4328693cd6e": {
      "model_module": "@jupyter-widgets/controls",
      "model_module_version": "1.5.0",
      "model_name": "GridBoxModel",
      "state": {
       "children": [
        "IPY_MODEL_3c8bfcae128645fd849bb49e2b597e20",
        "IPY_MODEL_c87428a3937749ec91fdfdd9a3fd10b8",
        "IPY_MODEL_88284932f7d34c8eacd2ecaf0ed63403",
        "IPY_MODEL_b796c06e134a4fc294c3ed27c86eba78",
        "IPY_MODEL_e5d7857b29b643839a6f259bffa750fc",
        "IPY_MODEL_d335fee7676e4a2c89250d954c525878",
        "IPY_MODEL_a8748164f91644ec925aaa36b1cadc9c",
        "IPY_MODEL_e37ba0b6bed64919a8883fddcb9991e8",
        "IPY_MODEL_cf2897ed2b814dcda73216679da88281"
       ],
       "layout": "IPY_MODEL_17ce126218c34ec8a9cb9fd5fb8a03fb"
      }
     },
     "c153cf7410824c86bd8e4a8ec056569f": {
      "model_module": "@jupyter-widgets/controls",
      "model_module_version": "1.5.0",
      "model_name": "FloatTextModel",
      "state": {
       "layout": "IPY_MODEL_521b8d9aaf784d889475e26541bc58c4",
       "step": null,
       "style": "IPY_MODEL_dfa1741055b44e3b82a0f10bcc202228",
       "value": 0.231
      }
     },
     "c183793db57946f9bb9cecc8296ddbb5": {
      "model_module": "@jupyter-widgets/controls",
      "model_module_version": "1.5.0",
      "model_name": "FloatSliderModel",
      "state": {
       "description": "strike",
       "layout": "IPY_MODEL_74e2b5b7ba4a49b4ad11f5927977c665",
       "max": 360,
       "style": "IPY_MODEL_6b5b3e5402074831bf835cdb89a7a0b3"
      }
     },
     "c22aa4c58d2f409495e44e30498fc898": {
      "model_module": "@jupyter-widgets/controls",
      "model_module_version": "1.5.0",
      "model_name": "SliderStyleModel",
      "state": {
       "description_width": ""
      }
     },
     "c2580a803366429388b70daad53d7aeb": {
      "model_module": "@jupyter-widgets/controls",
      "model_module_version": "1.5.0",
      "model_name": "DescriptionStyleModel",
      "state": {
       "description_width": ""
      }
     },
     "c27816f990b547f299f68226a9272637": {
      "model_module": "@jupyter-widgets/controls",
      "model_module_version": "1.5.0",
      "model_name": "DescriptionStyleModel",
      "state": {
       "description_width": ""
      }
     },
     "c462109ee4fd4882aa83b93b24b3a919": {
      "model_module": "@jupyter-widgets/controls",
      "model_module_version": "1.5.0",
      "model_name": "DescriptionStyleModel",
      "state": {
       "description_width": ""
      }
     },
     "c465e7ed44914a999a86fe609c5f4828": {
      "model_module": "@jupyter-widgets/controls",
      "model_module_version": "1.5.0",
      "model_name": "DescriptionStyleModel",
      "state": {
       "description_width": ""
      }
     },
     "c49923ebcd6b451d85ddbfe0193880f6": {
      "model_module": "@jupyter-widgets/controls",
      "model_module_version": "1.5.0",
      "model_name": "DescriptionStyleModel",
      "state": {
       "description_width": ""
      }
     },
     "c51e737ad44e4145b25f6ffca2cde5ff": {
      "model_module": "@jupyter-widgets/base",
      "model_module_version": "1.2.0",
      "model_name": "LayoutModel",
      "state": {}
     },
     "c5dbb38cd4dd4be985cad7615da3b75d": {
      "model_module": "@jupyter-widgets/controls",
      "model_module_version": "1.5.0",
      "model_name": "FloatTextModel",
      "state": {
       "layout": "IPY_MODEL_07860c9d3e664bcdae3eeef0881e2dc9",
       "step": null,
       "style": "IPY_MODEL_dafaf633e8c24a9390f12b691b6ac855"
      }
     },
     "c6000ecb736649de9fd14f9575af2c7f": {
      "model_module": "@jupyter-widgets/controls",
      "model_module_version": "1.5.0",
      "model_name": "DescriptionStyleModel",
      "state": {
       "description_width": ""
      }
     },
     "c683ac4f9905460fb36b0ded215bf7ce": {
      "model_module": "@jupyter-widgets/controls",
      "model_module_version": "1.5.0",
      "model_name": "FloatTextModel",
      "state": {
       "layout": "IPY_MODEL_6939e6e3e4cb4ea68bf72bd27cce361a",
       "step": null,
       "style": "IPY_MODEL_25c5d441fa464862a62c5ba1e1757114",
       "value": 0.014
      }
     },
     "c695078f7c9e4409bb3659d3894db81b": {
      "model_module": "@jupyter-widgets/controls",
      "model_module_version": "1.5.0",
      "model_name": "FloatSliderModel",
      "state": {
       "description": "dip",
       "layout": "IPY_MODEL_70c43ce1adfb4b3dac701e0fdac6b53a",
       "max": 90,
       "min": -90,
       "style": "IPY_MODEL_2effce18390c4d989c577ce7525de3fc"
      }
     },
     "c7f60777e131422ab04882364e464ec9": {
      "model_module": "@jupyter-widgets/base",
      "model_module_version": "1.2.0",
      "model_name": "LayoutModel",
      "state": {}
     },
     "c87428a3937749ec91fdfdd9a3fd10b8": {
      "model_module": "@jupyter-widgets/controls",
      "model_module_version": "1.5.0",
      "model_name": "FloatTextModel",
      "state": {
       "layout": "IPY_MODEL_afff8576ba5d49af8cdcc79c4f5f93ca",
       "step": null,
       "style": "IPY_MODEL_09440ec027a049bfb1e8f0a8acb781d6",
       "value": 0.188
      }
     },
     "c8bc8851757648269b866a5d4910d474": {
      "model_module": "@jupyter-widgets/controls",
      "model_module_version": "1.5.0",
      "model_name": "FloatSliderModel",
      "state": {
       "description": "clvd",
       "layout": "IPY_MODEL_e641f0411bed4443bb037cc6785e9333",
       "min": -100,
       "style": "IPY_MODEL_7e7bb9ce924b41a68ec8fa27793bad73",
       "value": 32
      }
     },
     "c8d49faf358742b6b66162ce2ccb831c": {
      "model_module": "@jupyter-widgets/base",
      "model_module_version": "1.2.0",
      "model_name": "LayoutModel",
      "state": {}
     },
     "c8f1b93c0e30473b930780eed2a33270": {
      "model_module": "@jupyter-widgets/base",
      "model_module_version": "1.2.0",
      "model_name": "LayoutModel",
      "state": {}
     },
     "c9b9554c977e4b279b587abfb4f3a08b": {
      "model_module": "@jupyter-widgets/output",
      "model_module_version": "1.0.0",
      "model_name": "OutputModel",
      "state": {
       "layout": "IPY_MODEL_320d899c37c5404c97d629f150d808ae",
       "outputs": [
        {
         "name": "stdout",
         "output_type": "stream",
         "text": "[[ 0.212  0.188 -0.148]\n [ 0.188  0.426 -0.045]\n [-0.148 -0.045  0.022]]\n"
        }
       ]
      }
     },
     "ca8a9107605c460b8191a105325ecd14": {
      "model_module": "@jupyter-widgets/controls",
      "model_module_version": "1.5.0",
      "model_name": "SliderStyleModel",
      "state": {
       "description_width": ""
      }
     },
     "caf66d92bdb94022814fd180e72b1ca3": {
      "model_module": "@jupyter-widgets/controls",
      "model_module_version": "1.5.0",
      "model_name": "FloatSliderModel",
      "state": {
       "description": "iso",
       "layout": "IPY_MODEL_ab9402f838ae4f7981eaa6905ee8d3e8",
       "min": -100,
       "style": "IPY_MODEL_5fc7b3a020ae476fa834714e9f90145b",
       "value": 66
      }
     },
     "cb0476fc34684c9c8b7040dedb2fbec1": {
      "model_module": "@jupyter-widgets/controls",
      "model_module_version": "1.5.0",
      "model_name": "DescriptionStyleModel",
      "state": {
       "description_width": ""
      }
     },
     "cb790d941bdc4915a4c2d1fea60ea25f": {
      "model_module": "@jupyter-widgets/controls",
      "model_module_version": "1.5.0",
      "model_name": "GridBoxModel",
      "state": {
       "children": [
        "IPY_MODEL_71b9de18f22c425a8bef6394f07353f5",
        "IPY_MODEL_c5dbb38cd4dd4be985cad7615da3b75d",
        "IPY_MODEL_00fbc922cbcb4380b6852460c7f01606",
        "IPY_MODEL_d8a93ccc1a88452e83838dd56a9748da",
        "IPY_MODEL_9c0ffb2107644d06a717e1b8a19a649e",
        "IPY_MODEL_8e5710774d8249b2809bff4946733d27",
        "IPY_MODEL_fb13bd1be18c48d1a93f8039912ebbc7",
        "IPY_MODEL_52d18be61068415f99e90cd8dc0ab8d6",
        "IPY_MODEL_5071d30299124c1590754c869135c1c7"
       ],
       "layout": "IPY_MODEL_b0e1087fb3e44f3f83415bb90eec0ac2"
      }
     },
     "cbe8b374fc024b218639cbcdeeb19e0c": {
      "model_module": "@jupyter-widgets/base",
      "model_module_version": "1.2.0",
      "model_name": "LayoutModel",
      "state": {}
     },
     "ccf5386ff4294433b37d893c9e52fe26": {
      "model_module": "@jupyter-widgets/base",
      "model_module_version": "1.2.0",
      "model_name": "LayoutModel",
      "state": {}
     },
     "cd9efdbd4775433aaf96ad2be307808b": {
      "model_module": "@jupyter-widgets/controls",
      "model_module_version": "1.5.0",
      "model_name": "FloatSliderModel",
      "state": {
       "description": "rake",
       "layout": "IPY_MODEL_bbe588c0dfe44fc9ae7fb6a44ab98dfd",
       "max": 180,
       "min": -180,
       "style": "IPY_MODEL_8da68f4fca4e4f7285407a73869b9515"
      }
     },
     "ce9bed0f6af24ea78674940c1aac283f": {
      "model_module": "@jupyter-widgets/controls",
      "model_module_version": "1.5.0",
      "model_name": "FloatTextModel",
      "state": {
       "layout": "IPY_MODEL_b122c19a1e1d4c608207f4de6e360ec1",
       "step": null,
       "style": "IPY_MODEL_70c527c17dfa439cb6d4ff4c1a20b3ce",
       "value": 0.068
      }
     },
     "cf2897ed2b814dcda73216679da88281": {
      "model_module": "@jupyter-widgets/controls",
      "model_module_version": "1.5.0",
      "model_name": "FloatTextModel",
      "state": {
       "layout": "IPY_MODEL_2d7aec16997b48a39f05cd63365fa55f",
       "step": null,
       "style": "IPY_MODEL_1a450fc36b28429ebdac7c5e9cde0ae7",
       "value": 0.022
      }
     },
     "cf3919e58c154a4fa13701e7c2991e6b": {
      "model_module": "@jupyter-widgets/controls",
      "model_module_version": "1.5.0",
      "model_name": "FloatTextModel",
      "state": {
       "layout": "IPY_MODEL_bb5dddcad4b447cf9a038ab441d01680",
       "step": null,
       "style": "IPY_MODEL_50ae89253a134540a265592a4ca0cfe0"
      }
     },
     "d03d75871ada467e9f845dc65c1e7d42": {
      "model_module": "@jupyter-widgets/controls",
      "model_module_version": "1.5.0",
      "model_name": "SliderStyleModel",
      "state": {
       "description_width": ""
      }
     },
     "d065baf9daba416e9ee0a9d74c44bc74": {
      "model_module": "@jupyter-widgets/controls",
      "model_module_version": "1.5.0",
      "model_name": "FloatTextModel",
      "state": {
       "layout": "IPY_MODEL_376eeff6e63540909f02e7b966c9208e",
       "step": null,
       "style": "IPY_MODEL_8b2755db89804e4db5f4b0ebcfbeadfe",
       "value": -0.174
      }
     },
     "d143c40ae26d499a848a5108e4fbe8e1": {
      "model_module": "@jupyter-widgets/controls",
      "model_module_version": "1.5.0",
      "model_name": "DescriptionStyleModel",
      "state": {
       "description_width": ""
      }
     },
     "d1ce4fc2ff8b406fb537cd0aed1b1893": {
      "model_module": "@jupyter-widgets/controls",
      "model_module_version": "1.5.0",
      "model_name": "FloatTextModel",
      "state": {
       "layout": "IPY_MODEL_957a40c0dde94804993a19c3523d31d8",
       "step": null,
       "style": "IPY_MODEL_faf0849eb3b945d69a38b8c926bd3ac8",
       "value": -0.629
      }
     },
     "d2325956bf9044bf9abf268cc3dc6e82": {
      "model_module": "@jupyter-widgets/controls",
      "model_module_version": "1.5.0",
      "model_name": "LinkModel",
      "state": {
       "source": [
        "IPY_MODEL_d335fee7676e4a2c89250d954c525878",
        "value"
       ],
       "target": [
        "IPY_MODEL_e37ba0b6bed64919a8883fddcb9991e8",
        "value"
       ]
      }
     },
     "d2862f2e149046c2b671ec811841c1c6": {
      "model_module": "@jupyter-widgets/base",
      "model_module_version": "1.2.0",
      "model_name": "LayoutModel",
      "state": {}
     },
     "d2d12d80ff704497971021f4f74667cf": {
      "model_module": "@jupyter-widgets/base",
      "model_module_version": "1.2.0",
      "model_name": "LayoutModel",
      "state": {}
     },
     "d335fee7676e4a2c89250d954c525878": {
      "model_module": "@jupyter-widgets/controls",
      "model_module_version": "1.5.0",
      "model_name": "FloatTextModel",
      "state": {
       "layout": "IPY_MODEL_aa255ab85c044541b1df6b7187c2bce1",
       "step": null,
       "style": "IPY_MODEL_c462109ee4fd4882aa83b93b24b3a919",
       "value": -0.045
      }
     },
     "d3a88f41f2e84d3ea4d746cc342f654a": {
      "model_module": "@jupyter-widgets/controls",
      "model_module_version": "1.5.0",
      "model_name": "FloatTextModel",
      "state": {
       "layout": "IPY_MODEL_eabdb7d1ffc6498680276900b02a57ec",
       "step": null,
       "style": "IPY_MODEL_c465e7ed44914a999a86fe609c5f4828",
       "value": 0.166
      }
     },
     "d3d9bc9ed28945cf9a6fceaa7edab6c5": {
      "model_module": "@jupyter-widgets/controls",
      "model_module_version": "1.5.0",
      "model_name": "LinkModel",
      "state": {
       "source": [
        "IPY_MODEL_8fe87dacbde6495cb38ef8259516f6fe",
        "value"
       ],
       "target": [
        "IPY_MODEL_366dc06749bd40ffa9a9968fbf452d94",
        "value"
       ]
      }
     },
     "d3fe55287f5944e297ff7717b61d8990": {
      "model_module": "@jupyter-widgets/base",
      "model_module_version": "1.2.0",
      "model_name": "LayoutModel",
      "state": {}
     },
     "d404967662f8439d88d15ba9c6e59d4d": {
      "model_module": "@jupyter-widgets/controls",
      "model_module_version": "1.5.0",
      "model_name": "DescriptionStyleModel",
      "state": {
       "description_width": ""
      }
     },
     "d48e837876ba41f6a0f96458aaa52171": {
      "model_module": "@jupyter-widgets/controls",
      "model_module_version": "1.5.0",
      "model_name": "FloatTextModel",
      "state": {
       "layout": "IPY_MODEL_2f13360b8c8e422c9d1cfe744d8d17db",
       "step": null,
       "style": "IPY_MODEL_6b7350168708418382120c6f46792f70",
       "value": -0.225
      }
     },
     "d4f1b1e377244af088e2960a94c81d13": {
      "model_module": "@jupyter-widgets/controls",
      "model_module_version": "1.5.0",
      "model_name": "SliderStyleModel",
      "state": {
       "description_width": ""
      }
     },
     "d550b106596d48b79bf9e6247961cf91": {
      "model_module": "@jupyter-widgets/controls",
      "model_module_version": "1.5.0",
      "model_name": "DescriptionStyleModel",
      "state": {
       "description_width": ""
      }
     },
     "d5c1039836d84dd0a05f94f56e733aa9": {
      "model_module": "@jupyter-widgets/controls",
      "model_module_version": "1.5.0",
      "model_name": "DescriptionStyleModel",
      "state": {
       "description_width": ""
      }
     },
     "d62c5116c9d04f859270ae17f75a1368": {
      "model_module": "@jupyter-widgets/controls",
      "model_module_version": "1.5.0",
      "model_name": "DescriptionStyleModel",
      "state": {
       "description_width": ""
      }
     },
     "d73182c1684e4e7d9743e33cc731e9d6": {
      "model_module": "@jupyter-widgets/controls",
      "model_module_version": "1.5.0",
      "model_name": "FloatSliderModel",
      "state": {
       "description": "clvd",
       "layout": "IPY_MODEL_6182d1ca4ca349fe8f3f965267dffbf0",
       "min": -100,
       "style": "IPY_MODEL_d03d75871ada467e9f845dc65c1e7d42"
      }
     },
     "d7a3a905e5fb4c3283377115048767a8": {
      "model_module": "@jupyter-widgets/base",
      "model_module_version": "1.2.0",
      "model_name": "LayoutModel",
      "state": {}
     },
     "d7a9a8dddfd04f328073b457e5b87b6c": {
      "model_module": "@jupyter-widgets/base",
      "model_module_version": "1.2.0",
      "model_name": "LayoutModel",
      "state": {}
     },
     "d7ab5bd3e7a04f06b7d560831be4702e": {
      "model_module": "@jupyter-widgets/controls",
      "model_module_version": "1.5.0",
      "model_name": "DescriptionStyleModel",
      "state": {
       "description_width": ""
      }
     },
     "d8a93ccc1a88452e83838dd56a9748da": {
      "model_module": "@jupyter-widgets/controls",
      "model_module_version": "1.5.0",
      "model_name": "FloatTextModel",
      "state": {
       "layout": "IPY_MODEL_19d75beb494f441080b30d594352c6fb",
       "step": null,
       "style": "IPY_MODEL_c2580a803366429388b70daad53d7aeb"
      }
     },
     "d90a5fe4e7864731961fc61c3532ebad": {
      "model_module": "@jupyter-widgets/controls",
      "model_module_version": "1.5.0",
      "model_name": "LinkModel",
      "state": {
       "source": [
        "IPY_MODEL_a813cce9cb60462ea16072902a2e9bd4",
        "value"
       ],
       "target": [
        "IPY_MODEL_4a0e7ca92f7a4edb9fa29be29eca0cd6",
        "value"
       ]
      }
     },
     "d969fc0a2a11465c9efa30c98f5ff897": {
      "model_module": "@jupyter-widgets/controls",
      "model_module_version": "1.5.0",
      "model_name": "DescriptionStyleModel",
      "state": {
       "description_width": ""
      }
     },
     "d98231f6a8124e858053f703f47bbf0d": {
      "model_module": "@jupyter-widgets/base",
      "model_module_version": "1.2.0",
      "model_name": "LayoutModel",
      "state": {}
     },
     "d9a8ec4dc13445ceb29bd0b0a423ed0c": {
      "model_module": "@jupyter-widgets/base",
      "model_module_version": "1.2.0",
      "model_name": "LayoutModel",
      "state": {}
     },
     "d9fd6d565467425aa99410ecd1b41f69": {
      "model_module": "@jupyter-widgets/base",
      "model_module_version": "1.2.0",
      "model_name": "LayoutModel",
      "state": {}
     },
     "da7cfd797c42420691f60eb3cd4d03b8": {
      "model_module": "@jupyter-widgets/base",
      "model_module_version": "1.2.0",
      "model_name": "LayoutModel",
      "state": {}
     },
     "dafaf633e8c24a9390f12b691b6ac855": {
      "model_module": "@jupyter-widgets/controls",
      "model_module_version": "1.5.0",
      "model_name": "DescriptionStyleModel",
      "state": {
       "description_width": ""
      }
     },
     "db570a1cd04846caa1b0a44191350057": {
      "model_module": "@jupyter-widgets/controls",
      "model_module_version": "1.5.0",
      "model_name": "DescriptionStyleModel",
      "state": {
       "description_width": ""
      }
     },
     "dbc26ac4f6c04c77a1e166f6de703a3c": {
      "model_module": "@jupyter-widgets/controls",
      "model_module_version": "1.5.0",
      "model_name": "VBoxModel",
      "state": {
       "_dom_classes": [
        "widget-interact"
       ],
       "children": [
        "IPY_MODEL_8ca3d6f87c574c80bbcda193ae6bc44c",
        "IPY_MODEL_8899d3a90f984507a851ca34094d9c54",
        "IPY_MODEL_4be2c96d71d646d4a8812519216d4bd8",
        "IPY_MODEL_442a66f7b323406b88f5c4d05ccf7ae3",
        "IPY_MODEL_9139c25b19444da2905169e230eb546a",
        "IPY_MODEL_0391da37ba5b4bb8b42c7865dc803d2a"
       ],
       "layout": "IPY_MODEL_4baf8d55a09447d288db5e5d426795d2"
      }
     },
     "dc99b5b2ff764d9aa27f509516ba76db": {
      "model_module": "@jupyter-widgets/output",
      "model_module_version": "1.0.0",
      "model_name": "OutputModel",
      "state": {
       "layout": "IPY_MODEL_642f159f207b462c86486d65c44a19ce"
      }
     },
     "dccdbac2454a4af6963056bcd96d1ebc": {
      "model_module": "@jupyter-widgets/controls",
      "model_module_version": "1.5.0",
      "model_name": "DescriptionStyleModel",
      "state": {
       "description_width": ""
      }
     },
     "de359a63c1ae450ba1ee19fe78978385": {
      "model_module": "@jupyter-widgets/controls",
      "model_module_version": "1.5.0",
      "model_name": "VBoxModel",
      "state": {
       "_dom_classes": [
        "widget-interact"
       ],
       "children": [
        "IPY_MODEL_64ebb9c77131420f97c3c694d354a7b0",
        "IPY_MODEL_458061434da947ae9a1fbccc44d71c55",
        "IPY_MODEL_295dd2cfdd404bf399560ec727a0f295",
        "IPY_MODEL_909716827ba84175811affee8e5476ed",
        "IPY_MODEL_0d1fbbf1776e467fb24b532a8d031fff",
        "IPY_MODEL_8a12690830534d79b6a38d20674d38aa"
       ],
       "layout": "IPY_MODEL_a18cc1fb538c4ee3b3c41c677b365730"
      }
     },
     "dec0152b11934b8b983e18429a0bdaaf": {
      "model_module": "@jupyter-widgets/controls",
      "model_module_version": "1.5.0",
      "model_name": "FloatTextModel",
      "state": {
       "layout": "IPY_MODEL_b01f7c580e7e4414b5755e180b171cb4",
       "step": null,
       "style": "IPY_MODEL_b98bbc70edfa4691af4685281ca168d0",
       "value": 0.211
      }
     },
     "df32ffbafe544163a4f3ab72e93e3e07": {
      "model_module": "@jupyter-widgets/controls",
      "model_module_version": "1.5.0",
      "model_name": "FloatTextModel",
      "state": {
       "layout": "IPY_MODEL_f066ed0071424dbfaa7678976b6c01c8",
       "step": null,
       "style": "IPY_MODEL_dccdbac2454a4af6963056bcd96d1ebc",
       "value": -0.497
      }
     },
     "dfa1741055b44e3b82a0f10bcc202228": {
      "model_module": "@jupyter-widgets/controls",
      "model_module_version": "1.5.0",
      "model_name": "DescriptionStyleModel",
      "state": {
       "description_width": ""
      }
     },
     "dfdfccd799c1426fac98407b2b0d8310": {
      "model_module": "@jupyter-widgets/controls",
      "model_module_version": "1.5.0",
      "model_name": "LinkModel",
      "state": {
       "source": [
        "IPY_MODEL_983fc8ad09c846868a90ac4efc45e68b",
        "value"
       ],
       "target": [
        "IPY_MODEL_c683ac4f9905460fb36b0ded215bf7ce",
        "value"
       ]
      }
     },
     "e202e4d4815648bf87f2ba3136e6cb48": {
      "model_module": "@jupyter-widgets/controls",
      "model_module_version": "1.5.0",
      "model_name": "FloatSliderModel",
      "state": {
       "description": "rake",
       "layout": "IPY_MODEL_7af62d1589af430f89773dcf34b6ea16",
       "max": 180,
       "min": -180,
       "style": "IPY_MODEL_77bab9ce2d424984872074f86e0e787c",
       "value": 56
      }
     },
     "e37ba0b6bed64919a8883fddcb9991e8": {
      "model_module": "@jupyter-widgets/controls",
      "model_module_version": "1.5.0",
      "model_name": "FloatTextModel",
      "state": {
       "layout": "IPY_MODEL_f6f2ebea86ce48918c39b10bb7ed66b1",
       "step": null,
       "style": "IPY_MODEL_354d7574905e4d0dbbe0283b6c9c5562",
       "value": -0.045
      }
     },
     "e3a9a49edc3746d5bfcd8ec7c0dad1cd": {
      "model_module": "@jupyter-widgets/base",
      "model_module_version": "1.2.0",
      "model_name": "LayoutModel",
      "state": {}
     },
     "e5d7857b29b643839a6f259bffa750fc": {
      "model_module": "@jupyter-widgets/controls",
      "model_module_version": "1.5.0",
      "model_name": "FloatTextModel",
      "state": {
       "layout": "IPY_MODEL_30063c21a6ff42f1af7b7811dd7983d8",
       "step": null,
       "style": "IPY_MODEL_d969fc0a2a11465c9efa30c98f5ff897",
       "value": 0.426
      }
     },
     "e641f0411bed4443bb037cc6785e9333": {
      "model_module": "@jupyter-widgets/base",
      "model_module_version": "1.2.0",
      "model_name": "LayoutModel",
      "state": {}
     },
     "e67401eb4fed47ffba8ce7e424f2ea32": {
      "model_module": "@jupyter-widgets/output",
      "model_module_version": "1.0.0",
      "model_name": "OutputModel",
      "state": {
       "layout": "IPY_MODEL_24023c1cde6041c5acce04dd30613cfb"
      }
     },
     "e6cc2b5430d148dc926a3e2b50884c04": {
      "model_module": "@jupyter-widgets/base",
      "model_module_version": "1.2.0",
      "model_name": "LayoutModel",
      "state": {}
     },
     "e6ddee86af3b46aa84f4b92de62a2ac7": {
      "model_module": "@jupyter-widgets/controls",
      "model_module_version": "1.5.0",
      "model_name": "SliderStyleModel",
      "state": {
       "description_width": ""
      }
     },
     "e784c79470a145e18c55367ee43e54ca": {
      "model_module": "@jupyter-widgets/controls",
      "model_module_version": "1.5.0",
      "model_name": "DescriptionStyleModel",
      "state": {
       "description_width": ""
      }
     },
     "e83ed642b99d4f719a194db550ac10e6": {
      "model_module": "@jupyter-widgets/base",
      "model_module_version": "1.2.0",
      "model_name": "LayoutModel",
      "state": {}
     },
     "e8d6348395094dc1a093118720c5ae8f": {
      "model_module": "@jupyter-widgets/base",
      "model_module_version": "1.2.0",
      "model_name": "LayoutModel",
      "state": {}
     },
     "e94b6eaa755540539655dbc0a1f39460": {
      "model_module": "@jupyter-widgets/base",
      "model_module_version": "1.2.0",
      "model_name": "LayoutModel",
      "state": {}
     },
     "e94e69dc598042e7a9ddef3cfe695529": {
      "model_module": "@jupyter-widgets/controls",
      "model_module_version": "1.5.0",
      "model_name": "LinkModel",
      "state": {
       "source": [
        "IPY_MODEL_8e5710774d8249b2809bff4946733d27",
        "value"
       ],
       "target": [
        "IPY_MODEL_52d18be61068415f99e90cd8dc0ab8d6",
        "value"
       ]
      }
     },
     "e953ca6fa4c14aea9f4a2d79604928c0": {
      "model_module": "@jupyter-widgets/controls",
      "model_module_version": "1.5.0",
      "model_name": "SliderStyleModel",
      "state": {
       "description_width": ""
      }
     },
     "e960cec0ca35493887672754843cff95": {
      "model_module": "@jupyter-widgets/controls",
      "model_module_version": "1.5.0",
      "model_name": "VBoxModel",
      "state": {
       "_dom_classes": [
        "widget-interact"
       ],
       "children": [
        "IPY_MODEL_9caece00725141df929c88a0e8fa2935",
        "IPY_MODEL_7f1c2a6634b64dea887e48706e0964fb",
        "IPY_MODEL_760bfdf4bf3c4f199d4c64db31b6d3c8",
        "IPY_MODEL_d73182c1684e4e7d9743e33cc731e9d6",
        "IPY_MODEL_f693872628a442a29b226a500b854220",
        "IPY_MODEL_dc99b5b2ff764d9aa27f509516ba76db"
       ],
       "layout": "IPY_MODEL_1334e9329bfd4ee6968a43e98533f38e"
      }
     },
     "e9a226b8994648839de8230011254192": {
      "model_module": "@jupyter-widgets/base",
      "model_module_version": "1.2.0",
      "model_name": "LayoutModel",
      "state": {}
     },
     "e9c2415a61274e7193e30a8362c5dd07": {
      "model_module": "@jupyter-widgets/controls",
      "model_module_version": "1.5.0",
      "model_name": "SliderStyleModel",
      "state": {
       "description_width": ""
      }
     },
     "ea53ed97ec1242ccb33dd6f7de77a621": {
      "model_module": "@jupyter-widgets/controls",
      "model_module_version": "1.5.0",
      "model_name": "FloatSliderModel",
      "state": {
       "description": "strike",
       "layout": "IPY_MODEL_45640d7580d4430c9786e4266aee80a0",
       "max": 360,
       "style": "IPY_MODEL_e953ca6fa4c14aea9f4a2d79604928c0",
       "value": 95
      }
     },
     "eabdb7d1ffc6498680276900b02a57ec": {
      "model_module": "@jupyter-widgets/base",
      "model_module_version": "1.2.0",
      "model_name": "LayoutModel",
      "state": {}
     },
     "eae174c5ab2148e1bfc7be3d8c2329cc": {
      "model_module": "@jupyter-widgets/base",
      "model_module_version": "1.2.0",
      "model_name": "LayoutModel",
      "state": {}
     },
     "eb8003f44fca457d8a6db721c1a7296f": {
      "model_module": "@jupyter-widgets/controls",
      "model_module_version": "1.5.0",
      "model_name": "LinkModel",
      "state": {
       "source": [
        "IPY_MODEL_80be8fa729ff41d8b1cca5b74bb55fe8",
        "value"
       ],
       "target": [
        "IPY_MODEL_1fe29875ca2744cc8c79c944f37e2b1c",
        "value"
       ]
      }
     },
     "edb4416fec6e44f988d36f8c2419b8cf": {
      "model_module": "@jupyter-widgets/controls",
      "model_module_version": "1.5.0",
      "model_name": "FloatTextModel",
      "state": {
       "layout": "IPY_MODEL_c8f1b93c0e30473b930780eed2a33270",
       "step": null,
       "style": "IPY_MODEL_f6b0f18bbe1847b4be4909ba51152b6c",
       "value": -0.181
      }
     },
     "f066ed0071424dbfaa7678976b6c01c8": {
      "model_module": "@jupyter-widgets/base",
      "model_module_version": "1.2.0",
      "model_name": "LayoutModel",
      "state": {}
     },
     "f0ad1557f0f8470ea59c07b4b83cb6dc": {
      "model_module": "@jupyter-widgets/controls",
      "model_module_version": "1.5.0",
      "model_name": "SliderStyleModel",
      "state": {
       "description_width": ""
      }
     },
     "f1638fcadeba46bfb236e6d0c305216e": {
      "model_module": "@jupyter-widgets/base",
      "model_module_version": "1.2.0",
      "model_name": "LayoutModel",
      "state": {}
     },
     "f2239a8d345a4315b302200e7f90e772": {
      "model_module": "@jupyter-widgets/controls",
      "model_module_version": "1.5.0",
      "model_name": "HBoxModel",
      "state": {
       "children": [
        "IPY_MODEL_5c859b766b2344bb9681651413d58c11",
        "IPY_MODEL_cb790d941bdc4915a4c2d1fea60ea25f"
       ],
       "layout": "IPY_MODEL_6feb0d404d6a46c189efcb3d16bd5824"
      }
     },
     "f2299fc273c54fdb91b512efd365d328": {
      "model_module": "@jupyter-widgets/controls",
      "model_module_version": "1.5.0",
      "model_name": "FloatTextModel",
      "state": {
       "layout": "IPY_MODEL_e9a226b8994648839de8230011254192",
       "step": null,
       "style": "IPY_MODEL_fb65b7301dd74ff8b9ef5e8383d3a3f5",
       "value": -0.629
      }
     },
     "f2b62929090e454090eda06f6a579462": {
      "model_module": "@jupyter-widgets/controls",
      "model_module_version": "1.5.0",
      "model_name": "DescriptionStyleModel",
      "state": {
       "description_width": ""
      }
     },
     "f2cedda6bcc94421bee1c942e91395cd": {
      "model_module": "@jupyter-widgets/controls",
      "model_module_version": "1.5.0",
      "model_name": "FloatSliderModel",
      "state": {
       "description": "clvd",
       "layout": "IPY_MODEL_55d7f803622643dcac330f94e8bb9e16",
       "min": -100,
       "style": "IPY_MODEL_5a63ba0db7014902b0f990f4e69fc29a"
      }
     },
     "f3f8f4cdabc34a28a12e5a3cd36ac91f": {
      "model_module": "@jupyter-widgets/controls",
      "model_module_version": "1.5.0",
      "model_name": "FloatTextModel",
      "state": {
       "layout": "IPY_MODEL_0f13c77f37c645528027dc959ed8884e",
       "step": null,
       "style": "IPY_MODEL_d143c40ae26d499a848a5108e4fbe8e1"
      }
     },
     "f4720578c3394bcda8e112e774cc67e5": {
      "model_module": "@jupyter-widgets/controls",
      "model_module_version": "1.5.0",
      "model_name": "FloatSliderModel",
      "state": {
       "description": "rake",
       "layout": "IPY_MODEL_c7f60777e131422ab04882364e464ec9",
       "max": 180,
       "min": -180,
       "style": "IPY_MODEL_3a3174ddd40e4d04ab609762c8b5f5f6"
      }
     },
     "f4ecb28e3f0d4a3290e61dea26c5b228": {
      "model_module": "@jupyter-widgets/controls",
      "model_module_version": "1.5.0",
      "model_name": "LinkModel",
      "state": {
       "source": [
        "IPY_MODEL_96d9baca8e3f4e50aafd3ae3684c00b3",
        "value"
       ],
       "target": [
        "IPY_MODEL_dec0152b11934b8b983e18429a0bdaaf",
        "value"
       ]
      }
     },
     "f4f6a07b3cd640c19ef871b0a0b2bb06": {
      "model_module": "@jupyter-widgets/controls",
      "model_module_version": "1.5.0",
      "model_name": "DescriptionStyleModel",
      "state": {
       "description_width": ""
      }
     },
     "f5d7a632416d491b81dd0b93ec8bed6f": {
      "model_module": "@jupyter-widgets/base",
      "model_module_version": "1.2.0",
      "model_name": "LayoutModel",
      "state": {}
     },
     "f6087aef2d2d4ccfa66f91aa347d19f9": {
      "model_module": "@jupyter-widgets/controls",
      "model_module_version": "1.5.0",
      "model_name": "GridBoxModel",
      "state": {
       "children": [
        "IPY_MODEL_89e8152295df4969ba6dd84363b953c8",
        "IPY_MODEL_80be8fa729ff41d8b1cca5b74bb55fe8",
        "IPY_MODEL_df32ffbafe544163a4f3ab72e93e3e07",
        "IPY_MODEL_1fe29875ca2744cc8c79c944f37e2b1c",
        "IPY_MODEL_25fe985ad5014cb1be9bdf09a376be69",
        "IPY_MODEL_d1ce4fc2ff8b406fb537cd0aed1b1893",
        "IPY_MODEL_40fce280f9894cce8ac50d64d9d31a76",
        "IPY_MODEL_f2299fc273c54fdb91b512efd365d328",
        "IPY_MODEL_d065baf9daba416e9ee0a9d74c44bc74"
       ],
       "layout": "IPY_MODEL_31480594311843d98de79d1b7912691f"
      }
     },
     "f61823c6682344348ba053e92758e4cb": {
      "model_module": "@jupyter-widgets/controls",
      "model_module_version": "1.5.0",
      "model_name": "DescriptionStyleModel",
      "state": {
       "description_width": ""
      }
     },
     "f693872628a442a29b226a500b854220": {
      "model_module": "@jupyter-widgets/controls",
      "model_module_version": "1.5.0",
      "model_name": "FloatSliderModel",
      "state": {
       "description": "iso",
       "layout": "IPY_MODEL_45f512bda0cf4a389f5d2b8e6362f935",
       "min": -100,
       "style": "IPY_MODEL_f0ad1557f0f8470ea59c07b4b83cb6dc",
       "value": -19
      }
     },
     "f69bc1821cc04d7bb4d49079764f2784": {
      "model_module": "@jupyter-widgets/controls",
      "model_module_version": "1.5.0",
      "model_name": "DescriptionStyleModel",
      "state": {
       "description_width": ""
      }
     },
     "f6b0f18bbe1847b4be4909ba51152b6c": {
      "model_module": "@jupyter-widgets/controls",
      "model_module_version": "1.5.0",
      "model_name": "DescriptionStyleModel",
      "state": {
       "description_width": ""
      }
     },
     "f6f2ebea86ce48918c39b10bb7ed66b1": {
      "model_module": "@jupyter-widgets/base",
      "model_module_version": "1.2.0",
      "model_name": "LayoutModel",
      "state": {}
     },
     "f7586cd506a6460092dd9e9a3581c582": {
      "model_module": "@jupyter-widgets/controls",
      "model_module_version": "1.5.0",
      "model_name": "LinkModel",
      "state": {
       "source": [
        "IPY_MODEL_d1ce4fc2ff8b406fb537cd0aed1b1893",
        "value"
       ],
       "target": [
        "IPY_MODEL_f2299fc273c54fdb91b512efd365d328",
        "value"
       ]
      }
     },
     "f8bf3f0f319942f0ad7fdfec41b0ba22": {
      "model_module": "@jupyter-widgets/controls",
      "model_module_version": "1.5.0",
      "model_name": "LinkModel",
      "state": {
       "source": [
        "IPY_MODEL_b917bef1fd544d1c8c456a83a41119cd",
        "value"
       ],
       "target": [
        "IPY_MODEL_c153cf7410824c86bd8e4a8ec056569f",
        "value"
       ]
      }
     },
     "faf0849eb3b945d69a38b8c926bd3ac8": {
      "model_module": "@jupyter-widgets/controls",
      "model_module_version": "1.5.0",
      "model_name": "DescriptionStyleModel",
      "state": {
       "description_width": ""
      }
     },
     "fb13bd1be18c48d1a93f8039912ebbc7": {
      "model_module": "@jupyter-widgets/controls",
      "model_module_version": "1.5.0",
      "model_name": "FloatTextModel",
      "state": {
       "layout": "IPY_MODEL_b3927a6aeb294101a3d24320087aac7d",
       "step": null,
       "style": "IPY_MODEL_f69bc1821cc04d7bb4d49079764f2784",
       "value": -1
      }
     },
     "fb65b7301dd74ff8b9ef5e8383d3a3f5": {
      "model_module": "@jupyter-widgets/controls",
      "model_module_version": "1.5.0",
      "model_name": "DescriptionStyleModel",
      "state": {
       "description_width": ""
      }
     },
     "fbcc4b421c4745bcab258a8cf58b1dcf": {
      "model_module": "@jupyter-widgets/controls",
      "model_module_version": "1.5.0",
      "model_name": "FloatSliderModel",
      "state": {
       "description": "dip",
       "layout": "IPY_MODEL_0ff06b8eba4149fcb181654b233d49d8",
       "max": 90,
       "min": -90,
       "style": "IPY_MODEL_5424fe84d8d843d881b16c79ac736863"
      }
     },
     "fd72c06da77b4af3a565d802f03d4621": {
      "model_module": "@jupyter-widgets/base",
      "model_module_version": "1.2.0",
      "model_name": "LayoutModel",
      "state": {}
     },
     "fe40870c58984d9a9606de20270c8167": {
      "model_module": "@jupyter-widgets/base",
      "model_module_version": "1.2.0",
      "model_name": "LayoutModel",
      "state": {}
     },
     "ff47e0c3d8ef46039bb75671ddd1f1e0": {
      "model_module": "@jupyter-widgets/controls",
      "model_module_version": "1.5.0",
      "model_name": "DescriptionStyleModel",
      "state": {
       "description_width": ""
      }
     }
    },
    "version_major": 2,
    "version_minor": 0
   }
  }
 },
 "nbformat": 4,
 "nbformat_minor": 4
}
